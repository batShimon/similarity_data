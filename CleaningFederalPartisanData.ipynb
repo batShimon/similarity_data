{
 "cells": [
  {
   "cell_type": "markdown",
   "metadata": {},
   "source": [
    "Created by: Revekka Gershovich\n",
    "Date: Oct 2024\n",
    "Purpose: Cleaning federal partisan data, and converting it into democratic and republican shares"
   ]
  },
  {
   "cell_type": "code",
   "execution_count": 65,
   "metadata": {},
   "outputs": [],
   "source": [
    "import os\n",
    "import os.path as path\n",
    "import pandas as pd\n",
    "import numpy as np"
   ]
  },
  {
   "cell_type": "code",
   "execution_count": 66,
   "metadata": {},
   "outputs": [],
   "source": [
    "# parent_dir = os.path.abspath(\"/Users/rivka666/Dropbox (MIT)/StateLaws\")\n",
    "parent_dir = os.path.abspath(\"/Users/revekkagershovich/Dropbox (MIT)/StateLaws\")\n",
    "os.chdir(parent_dir)\n",
    "assert os.path.exists(parent_dir), \"parent_dir does not exist\""
   ]
  },
  {
   "cell_type": "markdown",
   "metadata": {},
   "source": [
    "The data is downloaded from https://voteview.com/data\n",
    "\n",
    "Here is the dictionary of all the variables: https://voteview.com/articles/data_help_members\n",
    "\n",
    "Here is the dictionary specifically of congressional parties: https://voteview.com/articles/data_help_parties"
   ]
  },
  {
   "cell_type": "code",
   "execution_count": 67,
   "metadata": {},
   "outputs": [
    {
     "name": "stdout",
     "output_type": "stream",
     "text": [
      "        chamber  party_code  yr_rd2\n",
      "4543  President         555    1834\n",
      "4544      House         555    1834\n",
      "4545      House          44    1834\n",
      "4546      House         555    1834\n",
      "4547      House         555    1834\n",
      "4548      House         555    1834\n",
      "4549      House        1275    1834\n",
      "4550      House        1275    1834\n",
      "4551      House        1275    1834\n",
      "4552      House        1275    1834\n"
     ]
    }
   ],
   "source": [
    "fedPartDt = pd.read_csv(\"2_data/1_raw/political_data/FederalPartisanData.csv\")\n",
    "fedPartDt = fedPartDt.loc[:, ['congress', 'chamber', 'party_code']]\n",
    "# Create a dictionary that maps congress number to the years it spans\n",
    "congress_years = {i: 1789 + 2 * (i - 1) + 1 for i in range(1, 119)} \n",
    "# I want the years to be even (i.e. second (middle) year of congress) to keep the dataset in line with state partisan composition data\n",
    "fedPartDt['yr_rd2'] = fedPartDt['congress'].map(congress_years)\n",
    "fedPartDt.drop('congress', axis=1, inplace=True)\n",
    "fedPartDt = fedPartDt[fedPartDt['yr_rd2'] >= 1834]\n",
    "# Filter to after 1834 because the main political composition data starts after that\n",
    "print(fedPartDt.head(10))"
   ]
  },
  {
   "cell_type": "markdown",
   "metadata": {},
   "source": [
    "In the next two cells, I first assert that all parties in question appear in the time periods when they existed, and then I am remapping some of the parties to republican party or democratic parties, i.e. I remapp parties that political scientists commonly considered together in history as ancestors of those major modern US Congress parties to those modern parties. I do this partly to simplyify the dataset, and make the political similarity generation possible but also in order to keep this federal partisan composition dataset in line with the ICPSR state partisan composition dataset. Here is decoding of the mapping I am using. \n",
    "\n",
    "Mapping to democrats (1 in the resulting dataset): 100: Dem (1828-present), 555: Jackson party (1829-1854)\t\n",
    "Mapping to republicans (2 in the resulting dataset): 200: Rep (1854-present), 29: Whig (1834-1856), 1275: Anti-Jacksonian (1824-1837), 3333: Opposition Coalition (Whig + Republican + Free Soil: 1850-1856)"
   ]
  },
  {
   "cell_type": "code",
   "execution_count": 68,
   "metadata": {},
   "outputs": [],
   "source": [
    "assert (fedPartDt.loc[fedPartDt['party_code'] == 555, 'yr_rd2'].between(1829, 1854)).all(), \"Jackson (democrats) party appears in the period when it did not exist\"\n",
    "assert (fedPartDt.loc[fedPartDt['party_code'] == 100, 'yr_rd2'] >= 1829).all(), \"Democratic party appears in the period when it did not exist\"\n",
    "assert (fedPartDt.loc[fedPartDt['party_code'] == 200, 'yr_rd2'] >= 1854).all(), \"Republican party appears in the period when it did not exist\"\n",
    "assert (fedPartDt.loc[fedPartDt['party_code'] == 29, 'yr_rd2'].between(1834,1856)).all(), \"Whig party appears in the period when it did not exist\"\n",
    "assert (fedPartDt.loc[fedPartDt['party_code'] == 1275, 'yr_rd2'].between(1824,1837)).all(), \"Anti-Jacksonian party appears in the period when it did not exist\"\n",
    "assert (fedPartDt.loc[fedPartDt['party_code'] == 3333, 'yr_rd2'].between(1850,1856)).all(), \"Opposition coalition appears in the period when it did not exist\""
   ]
  },
  {
   "cell_type": "code",
   "execution_count": 69,
   "metadata": {},
   "outputs": [
    {
     "name": "stdout",
     "output_type": "stream",
     "text": [
      "party_code\n",
      "1       23782\n",
      "2       21403\n",
      "310        89\n",
      "340        83\n",
      "328        67\n",
      "206        60\n",
      "26         55\n",
      "370        48\n",
      "203        40\n",
      "329        40\n",
      "537        39\n",
      "44         28\n",
      "326        28\n",
      "300        26\n",
      "331        23\n",
      "3334       19\n",
      "208        16\n",
      "354        14\n",
      "112        13\n",
      "4444       12\n",
      "1060       11\n",
      "114         9\n",
      "108         8\n",
      "522         7\n",
      "380         7\n",
      "347         3\n",
      "46          3\n",
      "403         3\n",
      "603         2\n",
      "37          2\n",
      "356         2\n",
      "355         2\n",
      "117         2\n",
      "1111        1\n",
      "1116        1\n",
      "213         1\n",
      "523         1\n",
      "402         1\n",
      "Name: count, dtype: int64\n"
     ]
    }
   ],
   "source": [
    "fedPartDt['party_code'] = fedPartDt['party_code'].replace({100: 1, 555: 1, 200: 2, 29: 2, 1275: 2, 3333: 2}) \n",
    "# fedPartDt.loc[~fedPartDt['party_code'].isin([1, 2]), 'party_code'] = pd.NA\n",
    "print(fedPartDt['party_code'].value_counts())"
   ]
  },
  {
   "cell_type": "code",
   "execution_count": 70,
   "metadata": {},
   "outputs": [
    {
     "name": "stdout",
     "output_type": "stream",
     "text": [
      "         chamber  party_code  yr_rd2\n",
      "47733  President           1    2016\n",
      "48275  President           2    2018\n",
      "48831  President           2    2020\n",
      "49385  President           2    2022\n",
      "49386  President           1    2022\n"
     ]
    }
   ],
   "source": [
    "president = fedPartDt[fedPartDt['chamber'] == 'President']\n",
    "print(president.tail(5))"
   ]
  },
  {
   "cell_type": "code",
   "execution_count": 71,
   "metadata": {
    "vscode": {
     "languageId": "javascript"
    }
   },
   "outputs": [
    {
     "name": "stdout",
     "output_type": "stream",
     "text": [
      "    Year  Senate Democrats Totals  Senate Republicans Totals  \\\n",
      "91  2016                     44.0                       54.0   \n",
      "92  2018                     48.0                       55.0   \n",
      "93  2020                     46.0                       54.0   \n",
      "94  2022                     49.0                       51.0   \n",
      "95  2024                     49.0                       49.0   \n",
      "\n",
      "    House Democrats Totals  House Republicans Totals  \n",
      "91                   190.0                     251.0  \n",
      "92                   200.0                     250.0  \n",
      "93                   241.0                     208.0  \n",
      "94                   232.0                     223.0  \n",
      "95                   219.0                     229.0  \n"
     ]
    }
   ],
   "source": [
    "senate_totals = fedPartDt[fedPartDt['chamber'] == 'Senate'].groupby('yr_rd2')['party_code'].value_counts().unstack().fillna(0)\n",
    "house_totals = fedPartDt[fedPartDt['chamber'] == 'House'].groupby('yr_rd2')['party_code'].value_counts().unstack().fillna(0)\n",
    "\n",
    "senate_dems_totals = senate_totals[1]\n",
    "senate_reps_totals = senate_totals[2]\n",
    "\n",
    "house_dems_totals = house_totals[1]\n",
    "house_reps_totals = house_totals[2]\n",
    "\n",
    "totals_df = pd.concat([senate_dems_totals, senate_reps_totals, house_dems_totals, house_reps_totals], axis=1)\n",
    "totals_df.columns = ['Senate Democrats Totals', 'Senate Republicans Totals', 'House Democrats Totals', 'House Republicans Totals']\n",
    "totals_df.index.name = 'Year'\n",
    "totals_df.reset_index(inplace=True)\n",
    "\n",
    "print(totals_df.tail())"
   ]
  },
  {
   "cell_type": "code",
   "execution_count": 72,
   "metadata": {},
   "outputs": [],
   "source": [
    "# Function to calculate the proportion of 1s in party_code\n",
    "def calculate_proportion_of_dems(df, chamber):\n",
    "    filtered_df = df[df['chamber'] == chamber]\n",
    "    proportion = filtered_df.groupby('yr_rd2')['party_code'].apply(lambda x: (x == 1).mean())\n",
    "    return proportion\n",
    "\n",
    "def calculate_proportion_of_reps(df, chamber):\n",
    "    filtered_df = df[df['chamber'] == chamber]\n",
    "    proportion = filtered_df.groupby('yr_rd2')['party_code'].apply(lambda x: (x == 2).mean())\n",
    "    return proportion\n",
    "\n",
    "# Calculate proportions for House, Senate, and President\n",
    "dem_lowhouse = calculate_proportion_of_dems(fedPartDt, 'House')\n",
    "dem_upphouse = calculate_proportion_of_dems(fedPartDt, 'Senate')\n",
    "president_party = fedPartDt[fedPartDt['chamber'] == 'President'].groupby('yr_rd2')['party_code'].last()\n",
    "\n",
    "rep_lowhouse = calculate_proportion_of_reps(fedPartDt, 'House')\n",
    "rep_upphouse = calculate_proportion_of_reps(fedPartDt, 'Senate')\n",
    "\n",
    "# Calculate the proportion of 1s for all sessions (House and Senate)\n",
    "shr_dem_in_session = fedPartDt[(fedPartDt['chamber'] == 'House') | \n",
    "                                  (fedPartDt['chamber'] == 'Senate')].groupby('yr_rd2')['party_code'].apply(lambda x: (x == 1).mean())\n",
    "shr_rep_in_session = fedPartDt[(fedPartDt['chamber'] == 'House') | \n",
    "                                  (fedPartDt['chamber'] == 'Senate')].groupby('yr_rd2')['party_code'].apply(lambda x: (x == 2).mean())\n",
    "\n",
    "# Combine all proportions into a single DataFrame by aligning indices on 'yr_rd2'\n",
    "fed_affiliations = pd.concat([\n",
    "    shr_dem_in_session.rename('shr_dem_in_sess'),\n",
    "    shr_rep_in_session.rename('shr_rep_in_sess'),\n",
    "    dem_lowhouse.rename('dem_lowhse'),\n",
    "    rep_lowhouse.rename('rep_lowhse'),\n",
    "    dem_upphouse.rename('dem_upphse'),\n",
    "    rep_upphouse.rename('rep_upphse'),\n",
    "    president_party.rename('president_party')  # Now using the actual president's party from the data\n",
    "], axis=1)\n",
    "\n",
    "# Reset the index to ensure 'yr_rd2' is a column\n",
    "fed_affiliations = fed_affiliations.reset_index()\n"
   ]
  },
  {
   "cell_type": "code",
   "execution_count": 73,
   "metadata": {},
   "outputs": [
    {
     "name": "stdout",
     "output_type": "stream",
     "text": [
      "   yr_rd2  shr_dem_in_sess  shr_rep_in_sess  dem_lowhse  rep_lowhse  \\\n",
      "0    1834         0.557325         0.321656    0.581395    0.279070   \n",
      "1    1836         0.575472         0.342767    0.584314    0.321569   \n",
      "2    1838         0.548896         0.406940    0.519380    0.426357   \n",
      "3    1840         0.504732         0.470032    0.498054    0.470817   \n",
      "4    1842         0.411950         0.581761    0.409266    0.583012   \n",
      "\n",
      "   dem_upphse  rep_upphse  president_party  \n",
      "0    0.446429    0.517857              1.0  \n",
      "1    0.539683    0.428571              1.0  \n",
      "2    0.677966    0.322034              1.0  \n",
      "3    0.533333    0.466667              1.0  \n",
      "4    0.423729    0.576271              2.0  \n"
     ]
    }
   ],
   "source": [
    "# Print the proportions dataframe\n",
    "print(fed_affiliations.head(5))"
   ]
  },
  {
   "cell_type": "code",
   "execution_count": 74,
   "metadata": {},
   "outputs": [],
   "source": [
    "output_dir = \"/Users/rivka666/Dropbox (MIT)/StateLaws/2_data/2_intermediate/political_data\"\n",
    "output_file = path.join(output_dir, \"federal_political_composition.csv\")\n",
    "fed_affiliations.to_csv(output_file, index=False)"
   ]
  }
 ],
 "metadata": {
  "kernelspec": {
   "display_name": ".venv",
   "language": "python",
   "name": "python3"
  },
  "language_info": {
   "codemirror_mode": {
    "name": "ipython",
    "version": 3
   },
   "file_extension": ".py",
   "mimetype": "text/x-python",
   "name": "python",
   "nbconvert_exporter": "python",
   "pygments_lexer": "ipython3",
   "version": "3.9.6"
  }
 },
 "nbformat": 4,
 "nbformat_minor": 2
}
