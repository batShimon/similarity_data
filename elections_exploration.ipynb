{
 "cells": [
  {
   "cell_type": "markdown",
   "metadata": {},
   "source": [
    "**Created by:** Revekka Gershovich \n",
    "**When:** Nov 20, 2024 \n",
    "**Purpose:** To explore the missing data patterns in statelevel_preselections_results.csv produced by clean_presidential_elections.py script"
   ]
  },
  {
   "cell_type": "code",
   "execution_count": 104,
   "metadata": {},
   "outputs": [],
   "source": [
    "import os\n",
    "import os.path as path\n",
    "import pandas as pd\n",
    "import numpy as np"
   ]
  },
  {
   "cell_type": "code",
   "execution_count": 105,
   "metadata": {},
   "outputs": [],
   "source": [
    "# parent_dir = os.path.abspath(\"/Users/rivka666/Dropbox (MIT)/StateLaws\")\n",
    "parent_dir = os.path.abspath(\"/Users/revekkagershovich/Dropbox (MIT)/StateLaws\")\n",
    "os.chdir(parent_dir)\n",
    "assert os.path.exists(parent_dir), \"parent_dir does not exist\"\n",
    "data_dir = \"./2_data/2_intermediate/political_data\"\n",
    "assert os.path.exists(data_dir), \"Data directory does not exist\""
   ]
  },
  {
   "cell_type": "code",
   "execution_count": 106,
   "metadata": {},
   "outputs": [],
   "source": [
    "df = pd.read_csv(os.path.join(data_dir, \"statelevel_preselection_results.csv\"))"
   ]
  },
  {
   "cell_type": "code",
   "execution_count": 107,
   "metadata": {},
   "outputs": [
    {
     "name": "stdout",
     "output_type": "stream",
     "text": [
      "Missing years: []\n"
     ]
    }
   ],
   "source": [
    "all_even_years = set(range(1824, 2013, 4))\n",
    "unique_years = set(df[\"year\"].unique())\n",
    "missing_years = sorted(all_even_years - unique_years)\n",
    "print(\"Missing years:\", missing_years)"
   ]
  },
  {
   "cell_type": "code",
   "execution_count": 108,
   "metadata": {},
   "outputs": [
    {
     "name": "stdout",
     "output_type": "stream",
     "text": [
      "[2020 2016 2012 2008 2004 2000 1996 1992 1988 1984 1980 1976 1972 1968\n",
      " 1964 1960 1956 1952 1948 1944 1940 1936 1932 1928 1924 1920 1916 1912\n",
      " 1908 1904 1900 1896 1892 1888 1884 1880 1876 1872 1868 1864 1860 1856\n",
      " 1852 1848 1844 1840 1836 1832 1828 1824]\n"
     ]
    }
   ],
   "source": [
    "# Check for missing years because Nicolas said that 2008 is missing, \n",
    "# and that data stops in 2012\n",
    "print(df[\"year\"].unique())"
   ]
  },
  {
   "cell_type": "code",
   "execution_count": 109,
   "metadata": {},
   "outputs": [],
   "source": [
    "columns_order = [\"year\", \"state\"] + [col for col in df.columns if col not in [\"year\", \"state\"]]\n",
    "df = df[columns_order]"
   ]
  },
  {
   "cell_type": "code",
   "execution_count": 110,
   "metadata": {},
   "outputs": [
    {
     "data": {
      "text/plain": [
       "Index(['year', 'state', 'pct_dem', 'pct_rep', 'pct_thirdparties', 'votes_dem',\n",
       "       'votes_rep', 'votes_thirdparties', 'statefips'],\n",
       "      dtype='object')"
      ]
     },
     "execution_count": 110,
     "metadata": {},
     "output_type": "execute_result"
    }
   ],
   "source": [
    "df.columns"
   ]
  }
 ],
 "metadata": {
  "kernelspec": {
   "display_name": "Revekka_first_environment",
   "language": "python",
   "name": "python3"
  },
  "language_info": {
   "codemirror_mode": {
    "name": "ipython",
    "version": 3
   },
   "file_extension": ".py",
   "mimetype": "text/x-python",
   "name": "python",
   "nbconvert_exporter": "python",
   "pygments_lexer": "ipython3",
   "version": "3.11.9"
  }
 },
 "nbformat": 4,
 "nbformat_minor": 2
}
