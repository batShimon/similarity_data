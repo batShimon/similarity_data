{
 "cells": [
  {
   "cell_type": "markdown",
   "metadata": {},
   "source": [
    "**Created by:** Revekka Gershovich \n",
    "**When:** Nov 20, 2024 \n",
    "**Purpose:** To explore the missing data patterns in statelevel_preselections_results.csv produced by clean_presidential_elections.py script"
   ]
  },
  {
   "cell_type": "code",
   "execution_count": 2,
   "metadata": {},
   "outputs": [],
   "source": [
    "import os\n",
    "import os.path as path\n",
    "import pandas as pd\n",
    "import numpy as np"
   ]
  },
  {
   "cell_type": "code",
   "execution_count": 3,
   "metadata": {},
   "outputs": [],
   "source": [
    "# parent_dir = os.path.abspath(\"/Users/rivka666/Dropbox (MIT)/StateLaws\")\n",
    "parent_dir = os.path.abspath(\"/Users/revekkagershovich/Dropbox (MIT)/StateLaws\")\n",
    "os.chdir(parent_dir)\n",
    "assert os.path.exists(parent_dir), \"parent_dir does not exist\"\n",
    "data_dir = \"./2_data/2_intermediate/political_data\"\n",
    "assert os.path.exists(data_dir), \"Data directory does not exist\""
   ]
  },
  {
   "cell_type": "code",
   "execution_count": 4,
   "metadata": {},
   "outputs": [],
   "source": [
    "df = pd.read_csv(os.path.join(data_dir, \"statelevel_preselection_results.csv\"))"
   ]
  },
  {
   "cell_type": "code",
   "execution_count": 12,
   "metadata": {},
   "outputs": [
    {
     "name": "stdout",
     "output_type": "stream",
     "text": [
      "Missing years: [1944, 2008]\n"
     ]
    }
   ],
   "source": [
    "all_even_years = set(range(1824, 2013, 4))\n",
    "unique_years = set(df[\"year\"].unique())\n",
    "missing_years = sorted(all_even_years - unique_years)\n",
    "print(\"Missing years:\", missing_years)"
   ]
  },
  {
   "cell_type": "code",
   "execution_count": 6,
   "metadata": {},
   "outputs": [
    {
     "name": "stdout",
     "output_type": "stream",
     "text": [
      "[2012 2004 2000 1996 1992 1988 1984 1980 1976 1972 1968 1964 1960 1956\n",
      " 1952 1948 1940 1936 1932 1928 1924 1920 1916 1912 1908 1904 1900 1896\n",
      " 1892 1888 1884 1880 1876 1872 1868 1864 1860 1856 1852 1848 1844 1840\n",
      " 1836 1832 1828 1824]\n"
     ]
    }
   ],
   "source": [
    "# Check for missing years because Nicolas said that 2008 is missing, \n",
    "# and that data stops in 2012\n",
    "print(df[\"year\"].unique())"
   ]
  },
  {
   "cell_type": "code",
   "execution_count": 7,
   "metadata": {},
   "outputs": [],
   "source": [
    "columns_order = [\"year\", \"state\"] + [col for col in df.columns if col not in [\"year\", \"state\"]]\n",
    "df = df[columns_order]"
   ]
  },
  {
   "cell_type": "code",
   "execution_count": 9,
   "metadata": {},
   "outputs": [
    {
     "data": {
      "text/plain": [
       "Index(['year', 'state', 'pct_dem', 'pct_rep', 'pct_thirdparties', 'votes_dem',\n",
       "       'votes_rep', 'votes_thirdparties', 'statefips'],\n",
       "      dtype='object')"
      ]
     },
     "execution_count": 9,
     "metadata": {},
     "output_type": "execute_result"
    }
   ],
   "source": [
    "df.columns"
   ]
  },
  {
   "cell_type": "code",
   "execution_count": 8,
   "metadata": {},
   "outputs": [
    {
     "data": {
      "text/html": [
       "<div>\n",
       "<style scoped>\n",
       "    .dataframe tbody tr th:only-of-type {\n",
       "        vertical-align: middle;\n",
       "    }\n",
       "\n",
       "    .dataframe tbody tr th {\n",
       "        vertical-align: top;\n",
       "    }\n",
       "\n",
       "    .dataframe thead th {\n",
       "        text-align: right;\n",
       "    }\n",
       "</style>\n",
       "<table border=\"1\" class=\"dataframe\">\n",
       "  <thead>\n",
       "    <tr style=\"text-align: right;\">\n",
       "      <th></th>\n",
       "      <th>year</th>\n",
       "      <th>state</th>\n",
       "      <th>pct_dem</th>\n",
       "      <th>pct_rep</th>\n",
       "      <th>pct_thirdparties</th>\n",
       "      <th>votes_dem</th>\n",
       "      <th>votes_rep</th>\n",
       "      <th>votes_thirdparties</th>\n",
       "      <th>statefips</th>\n",
       "    </tr>\n",
       "  </thead>\n",
       "  <tbody>\n",
       "    <tr>\n",
       "      <th>0</th>\n",
       "      <td>2012</td>\n",
       "      <td>Alabama</td>\n",
       "      <td>0.383590</td>\n",
       "      <td>0.605458</td>\n",
       "      <td>0.010951</td>\n",
       "      <td>795696.0</td>\n",
       "      <td>1255925.0</td>\n",
       "      <td>22717.0</td>\n",
       "      <td>1</td>\n",
       "    </tr>\n",
       "    <tr>\n",
       "      <th>1</th>\n",
       "      <td>2012</td>\n",
       "      <td>Alaska</td>\n",
       "      <td>0.408127</td>\n",
       "      <td>0.548016</td>\n",
       "      <td>0.043858</td>\n",
       "      <td>122640.0</td>\n",
       "      <td>164676.0</td>\n",
       "      <td>13179.0</td>\n",
       "      <td>2</td>\n",
       "    </tr>\n",
       "    <tr>\n",
       "      <th>2</th>\n",
       "      <td>2012</td>\n",
       "      <td>Arizona</td>\n",
       "      <td>0.444485</td>\n",
       "      <td>0.534846</td>\n",
       "      <td>0.020662</td>\n",
       "      <td>1025232.0</td>\n",
       "      <td>1233654.0</td>\n",
       "      <td>47659.0</td>\n",
       "      <td>4</td>\n",
       "    </tr>\n",
       "    <tr>\n",
       "      <th>3</th>\n",
       "      <td>2012</td>\n",
       "      <td>Arkansas</td>\n",
       "      <td>0.368790</td>\n",
       "      <td>0.605669</td>\n",
       "      <td>0.025541</td>\n",
       "      <td>394409.0</td>\n",
       "      <td>647744.0</td>\n",
       "      <td>27315.0</td>\n",
       "      <td>5</td>\n",
       "    </tr>\n",
       "    <tr>\n",
       "      <th>4</th>\n",
       "      <td>2012</td>\n",
       "      <td>California</td>\n",
       "      <td>0.602390</td>\n",
       "      <td>0.371204</td>\n",
       "      <td>0.026407</td>\n",
       "      <td>7854285.0</td>\n",
       "      <td>4839958.0</td>\n",
       "      <td>344304.0</td>\n",
       "      <td>6</td>\n",
       "    </tr>\n",
       "  </tbody>\n",
       "</table>\n",
       "</div>"
      ],
      "text/plain": [
       "   year       state   pct_dem   pct_rep  pct_thirdparties  votes_dem  \\\n",
       "0  2012     Alabama  0.383590  0.605458          0.010951   795696.0   \n",
       "1  2012      Alaska  0.408127  0.548016          0.043858   122640.0   \n",
       "2  2012     Arizona  0.444485  0.534846          0.020662  1025232.0   \n",
       "3  2012    Arkansas  0.368790  0.605669          0.025541   394409.0   \n",
       "4  2012  California  0.602390  0.371204          0.026407  7854285.0   \n",
       "\n",
       "   votes_rep  votes_thirdparties  statefips  \n",
       "0  1255925.0             22717.0          1  \n",
       "1   164676.0             13179.0          2  \n",
       "2  1233654.0             47659.0          4  \n",
       "3   647744.0             27315.0          5  \n",
       "4  4839958.0            344304.0          6  "
      ]
     },
     "execution_count": 8,
     "metadata": {},
     "output_type": "execute_result"
    }
   ],
   "source": [
    "df.head()"
   ]
  }
 ],
 "metadata": {
  "kernelspec": {
   "display_name": "Revekka_first_environment",
   "language": "python",
   "name": "python3"
  },
  "language_info": {
   "codemirror_mode": {
    "name": "ipython",
    "version": 3
   },
   "file_extension": ".py",
   "mimetype": "text/x-python",
   "name": "python",
   "nbconvert_exporter": "python",
   "pygments_lexer": "ipython3",
   "version": "3.11.9"
  }
 },
 "nbformat": 4,
 "nbformat_minor": 2
}
