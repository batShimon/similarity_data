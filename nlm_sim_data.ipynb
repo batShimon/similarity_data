{
 "cells": [
  {
   "cell_type": "code",
   "execution_count": 6,
   "metadata": {},
   "outputs": [],
   "source": [
    "import pandas as pd\n",
    "import numpy as np\n",
    "import os"
   ]
  },
  {
   "cell_type": "code",
   "execution_count": 7,
   "metadata": {},
   "outputs": [],
   "source": [
    "parent_dir = os.path.abspath(\"/Users/revekkagershovich/Dropbox (MIT)/StateLaws\")\n",
    "assert os.path.exists(parent_dir), \"parent_dir does not exist\"\n",
    "data_dir = os.path.join(parent_dir, \"./2_data/2_intermediate/political_data\")\n",
    "assert os.path.exists(data_dir), \"Data directory does not exist\""
   ]
  },
  {
   "cell_type": "code",
   "execution_count": 17,
   "metadata": {},
   "outputs": [],
   "source": [
    "# Specify the path to the PDF and extract the table\n",
    "political_data = pd.read_csv(os.path.join(data_dir, \"./political_composition.csv\"))"
   ]
  },
  {
   "cell_type": "code",
   "execution_count": 18,
   "metadata": {},
   "outputs": [
    {
     "name": "stdout",
     "output_type": "stream",
     "text": [
      "  state_abbrev  yr_rd2  shr_dem_in_sess  shr_rep_in_sess  dem_upphse  \\\n",
      "0           AL    1834         0.527778         0.472222    0.555556   \n",
      "1           CT    1834         0.216597         0.783403    0.190476   \n",
      "2           DE    1834         0.333333         0.666667    0.333333   \n",
      "3          Fed    1834         0.557325         0.321656    0.446429   \n",
      "4           GA    1834         0.704487         0.295513    0.692308   \n",
      "\n",
      "   dem_lowhse  rep_upphse  rep_lowhse  gov_party  \n",
      "0    0.500000    0.444444    0.500000        1.0  \n",
      "1    0.242718    0.809524    0.757282        NaN  \n",
      "2    0.333333    0.666667    0.666667        1.0  \n",
      "3    0.581395    0.517857    0.279070        1.0  \n",
      "4    0.716667    0.307692    0.283333        NaN  \n"
     ]
    }
   ],
   "source": [
    "print(political_data.head())"
   ]
  },
  {
   "cell_type": "code",
   "execution_count": 20,
   "metadata": {},
   "outputs": [],
   "source": [
    "# Rename column 'yr_rd2' to 'year'\n",
    "political_data.rename(columns={'yr_rd2': 'year'}, inplace=True)\n",
    "\n",
    "# Remove years with missing 'gov_party'\n",
    "political_data['min_year'] = political_data.groupby('state_abbrev')['year'].transform(lambda x: x.min() if x.notna().any() else np.nan)\n",
    "political_data['min_min_year'] = political_data.groupby('state_abbrev')['min_year'].transform('min')\n",
    "political_data = political_data[political_data['year'] >= political_data['min_min_year']]"
   ]
  },
  {
   "cell_type": "code",
   "execution_count": 21,
   "metadata": {},
   "outputs": [
    {
     "name": "stderr",
     "output_type": "stream",
     "text": [
      "/var/folders/6h/20f1xzjj5xx3z0lxd2hqpjzc0000gp/T/ipykernel_56497/97634449.py:3: FutureWarning: A value is trying to be set on a copy of a DataFrame or Series through chained assignment using an inplace method.\n",
      "The behavior will change in pandas 3.0. This inplace method will never work because the intermediate object on which we are setting values always behaves as a copy.\n",
      "\n",
      "For example, when doing 'df[col].method(value, inplace=True)', try using 'df.method({col: value}, inplace=True)' or df[col] = df[col].method(value) instead, to perform the operation inplace on the original object.\n",
      "\n",
      "\n",
      "  political_data['state_abbrev'].fillna(method='ffill', inplace=True)\n",
      "/var/folders/6h/20f1xzjj5xx3z0lxd2hqpjzc0000gp/T/ipykernel_56497/97634449.py:3: FutureWarning: Series.fillna with 'method' is deprecated and will raise in a future version. Use obj.ffill() or obj.bfill() instead.\n",
      "  political_data['state_abbrev'].fillna(method='ffill', inplace=True)\n",
      "/var/folders/6h/20f1xzjj5xx3z0lxd2hqpjzc0000gp/T/ipykernel_56497/97634449.py:6: FutureWarning: A value is trying to be set on a copy of a DataFrame or Series through chained assignment using an inplace method.\n",
      "The behavior will change in pandas 3.0. This inplace method will never work because the intermediate object on which we are setting values always behaves as a copy.\n",
      "\n",
      "For example, when doing 'df[col].method(value, inplace=True)', try using 'df.method({col: value}, inplace=True)' or df[col] = df[col].method(value) instead, to perform the operation inplace on the original object.\n",
      "\n",
      "\n",
      "  political_data[col].fillna(method='ffill', inplace=True)\n",
      "/var/folders/6h/20f1xzjj5xx3z0lxd2hqpjzc0000gp/T/ipykernel_56497/97634449.py:6: FutureWarning: Series.fillna with 'method' is deprecated and will raise in a future version. Use obj.ffill() or obj.bfill() instead.\n",
      "  political_data[col].fillna(method='ffill', inplace=True)\n"
     ]
    }
   ],
   "source": [
    "# Fill missing values based on the last observation within each group \n",
    "political_data.sort_values(by=['state_abbrev', 'year'], inplace=True)\n",
    "political_data['state_abbrev'].fillna(method='ffill', inplace=True)\n",
    "\n",
    "for col in ['shr_dem_in_sess', 'shr_rep_in_sess', 'dem_upphse', 'rep_upphse', 'dem_lowhse', 'rep_lowhse', 'gov_party']:\n",
    "    political_data[col].fillna(method='ffill', inplace=True)"
   ]
  },
  {
   "cell_type": "code",
   "execution_count": 22,
   "metadata": {},
   "outputs": [
    {
     "name": "stdout",
     "output_type": "stream",
     "text": [
      "     state_abbrev  year  shr_dem_in_sess  shr_rep_in_sess  dem_upphse  \\\n",
      "2550           AK  1960           0.8750           0.1125       0.900   \n",
      "2600           AK  1962           0.6125           0.3875       0.675   \n",
      "2650           AK  1964           0.6250           0.3750       0.750   \n",
      "2699           AK  1966           0.8000           0.2000       0.850   \n",
      "2748           AK  1968           0.3375           0.6625       0.300   \n",
      "\n",
      "      dem_lowhse  rep_upphse  rep_lowhse  gov_party  min_year  min_min_year  \n",
      "2550       0.850       0.100       0.125        1.0      1960          1960  \n",
      "2600       0.550       0.325       0.450        1.0      1960          1960  \n",
      "2650       0.500       0.250       0.500        1.0      1960          1960  \n",
      "2699       0.750       0.150       0.250        1.0      1960          1960  \n",
      "2748       0.375       0.700       0.625        1.0      1960          1960  \n"
     ]
    }
   ],
   "source": [
    "print(political_data.head())"
   ]
  },
  {
   "cell_type": "code",
   "execution_count": 23,
   "metadata": {},
   "outputs": [],
   "source": [
    "# Round the 'year' and filter only those rows\n",
    "political_data['yr_rd2'] = political_data['year'].round(2)\n",
    "political_data = political_data[political_data['year'] == political_data['yr_rd2']]\n",
    "political_data.drop(columns=['year'], inplace=True)"
   ]
  },
  {
   "cell_type": "code",
   "execution_count": 24,
   "metadata": {},
   "outputs": [],
   "source": [
    "# Create division and census region (similar to the Stata program)\n",
    "def create_division(row):\n",
    "    if row['state_abbrev'] in [9, 23, 25, 33, 44, 50]:\n",
    "        return 'NE'\n",
    "    elif row['state_abbrev'] in [34, 36, 42]:\n",
    "        return 'MA'\n",
    "    elif row['state_abbrev'] in [17, 18, 26, 39, 55]:\n",
    "        return 'ENC'\n",
    "    elif row['state_abbrev'] in [19, 20, 27, 29, 31, 38, 46]:\n",
    "        return 'WNC'\n",
    "    elif row['state_abbrev'] in [10, 11, 12, 13, 24, 37, 45, 51, 54]:\n",
    "        return 'SA'\n",
    "    elif row['state_abbrev'] in [1, 21, 28, 47]:\n",
    "        return 'ESC'\n",
    "    elif row['state_abbrev'] in [5, 22, 40, 48]:\n",
    "        return 'WSC'\n",
    "    elif row['state_abbrev'] in [4, 8, 16, 35, 30, 49, 32, 56]:\n",
    "        return 'M'\n",
    "    elif row['state_abbrev'] in [2, 6, 15, 41, 53]:\n",
    "        return 'P'\n",
    "    else:\n",
    "        return np.nan\n",
    "\n",
    "political_data['division'] = political_data.apply(create_division, axis=1)"
   ]
  },
  {
   "cell_type": "code",
   "execution_count": 25,
   "metadata": {},
   "outputs": [],
   "source": [
    "def create_region_from_division(row):\n",
    "    if row['division'] in ['NE', 'MA']:\n",
    "        return 1  # Northeast\n",
    "    elif row['division'] in ['ENC', 'WNC']:\n",
    "        return 2  # Midwest\n",
    "    elif row['division'] in ['SA', 'ESC', 'WSC']:\n",
    "        return 3  # South\n",
    "    elif row['division'] in ['M', 'P']:\n",
    "        return 4  # West\n",
    "    else:\n",
    "        return np.nan\n",
    "\n",
    "political_data['censusregion'] = political_data.apply(create_region_from_division, axis=1)\n",
    "\n",
    "# Keep relevant columns\n",
    "political_data = political_data[['yr_rd2', 'state_abbrev', 'shr_dem_in_sess', 'shr_rep_in_sess', 'gov_party',\n",
    "                                 'dem_upphse', 'rep_upphse', 'dem_lowhse', 'rep_lowhse', 'censusregion']]\n",
    "\n",
    "# Rename for merging later\n",
    "political_data.rename(columns={'state_abbrev': 'state'}, inplace=True)\n",
    "polstate1 = political_data.add_suffix('1')\n",
    "\n",
    "# Save to temporary files (in Python, you can save as a CSV or a temporary DataFrame)\n",
    "polstate1['year'] = polstate1['yr_rd21']  # Add the year back for merging\n",
    "temp = political_data.copy()\n",
    "\n",
    "# Rename for merging with second state\n",
    "polstate2 = temp.add_suffix('2')\n",
    "polstate2['year'] = polstate2['yr_rd22']\n",
    "\n",
    "# Save `polstate2` if needed as a file"
   ]
  },
  {
   "cell_type": "code",
   "execution_count": 27,
   "metadata": {},
   "outputs": [
    {
     "name": "stdout",
     "output_type": "stream",
     "text": [
      "      yr_rd21 state1  shr_dem_in_sess1  shr_rep_in_sess1  gov_party1  \\\n",
      "2550     1960     AK            0.8750            0.1125         1.0   \n",
      "2600     1962     AK            0.6125            0.3875         1.0   \n",
      "2650     1964     AK            0.6250            0.3750         1.0   \n",
      "2699     1966     AK            0.8000            0.2000         1.0   \n",
      "2748     1968     AK            0.3375            0.6625         1.0   \n",
      "\n",
      "      dem_upphse1  rep_upphse1  dem_lowhse1  rep_lowhse1  censusregion1  year  \n",
      "2550        0.900        0.100        0.850        0.125            NaN  1960  \n",
      "2600        0.675        0.325        0.550        0.450            NaN  1962  \n",
      "2650        0.750        0.250        0.500        0.500            NaN  1964  \n",
      "2699        0.850        0.150        0.750        0.250            NaN  1966  \n",
      "2748        0.300        0.700        0.375        0.625            NaN  1968  \n"
     ]
    }
   ],
   "source": [
    "# print(political_data.head())\n",
    "print(polstate1.head())\n",
    "# print(polstate2.head())"
   ]
  }
 ],
 "metadata": {
  "kernelspec": {
   "display_name": "Revekka_first_environment",
   "language": "python",
   "name": "python3"
  },
  "language_info": {
   "codemirror_mode": {
    "name": "ipython",
    "version": 3
   },
   "file_extension": ".py",
   "mimetype": "text/x-python",
   "name": "python",
   "nbconvert_exporter": "python",
   "pygments_lexer": "ipython3",
   "version": "3.11.9"
  }
 },
 "nbformat": 4,
 "nbformat_minor": 2
}
