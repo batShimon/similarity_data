{
 "cells": [
  {
   "cell_type": "code",
   "execution_count": 65,
   "metadata": {},
   "outputs": [],
   "source": [
    "import pandas as pd\n",
    "import numpy as np\n",
    "import os"
   ]
  },
  {
   "cell_type": "code",
   "execution_count": 66,
   "metadata": {},
   "outputs": [],
   "source": [
    "parent_dir = os.path.abspath(\"/Users/revekkagershovich/Dropbox (MIT)/StateLaws\")\n",
    "assert os.path.exists(parent_dir), \"parent_dir does not exist\"\n",
    "data_dir = os.path.join(parent_dir, \"./2_data/2_intermediate/political_data\")\n",
    "assert os.path.exists(data_dir), \"Data directory does not exist\""
   ]
  },
  {
   "cell_type": "code",
   "execution_count": 67,
   "metadata": {},
   "outputs": [],
   "source": [
    "# Specify the path to the PDF and extract the table\n",
    "political_data = pd.read_csv(os.path.join(data_dir, \"./political_composition.csv\"))"
   ]
  },
  {
   "cell_type": "code",
   "execution_count": 68,
   "metadata": {},
   "outputs": [
    {
     "name": "stdout",
     "output_type": "stream",
     "text": [
      "  state_abbrev  yr_rd2  shr_dem_in_sess  shr_rep_in_sess  dem_upphse  \\\n",
      "0           AL    1834         0.527778         0.472222    0.555556   \n",
      "1           CT    1834         0.216597         0.783403    0.190476   \n",
      "2           DE    1834         0.333333         0.666667    0.333333   \n",
      "3          Fed    1834         0.557325         0.321656    0.446429   \n",
      "4           GA    1834         0.704487         0.295513    0.692308   \n",
      "\n",
      "   dem_lowhse  rep_upphse  rep_lowhse  gov_party  \n",
      "0    0.500000    0.444444    0.500000        1.0  \n",
      "1    0.242718    0.809524    0.757282        NaN  \n",
      "2    0.333333    0.666667    0.666667        1.0  \n",
      "3    0.581395    0.517857    0.279070        1.0  \n",
      "4    0.716667    0.307692    0.283333        NaN  \n"
     ]
    }
   ],
   "source": [
    "print(political_data.head())"
   ]
  },
  {
   "cell_type": "code",
   "execution_count": 69,
   "metadata": {},
   "outputs": [],
   "source": [
    "# Rename column 'yr_rd2' to 'year'\n",
    "political_data.rename(columns={'yr_rd2': 'year'}, inplace=True)\n",
    "\n",
    "# Step 1: Calculate `min_year` for each `state_abbrev` where `gov_party` is not missing\n",
    "political_data['min_year'] = political_data.loc[\n",
    "    political_data['gov_party'].notna()\n",
    "].groupby('state_abbrev')['year'].transform('min')\n",
    "\n",
    "# Step 2: Propagate `min_min_year` across all rows within each `state_abbrev` group\n",
    "political_data['min_min_year'] = political_data.groupby('state_abbrev')['min_year'].transform('min')\n",
    "\n",
    "# Step 3: Drop rows where `year` is less than `min_min_year`\n",
    "political_data = political_data[political_data['year'] >= political_data['min_min_year']]\n",
    "\n",
    "# Optional: Drop the intermediate columns if not needed\n",
    "political_data.drop(columns=['min_year', 'min_min_year'], inplace=True)\n",
    "\n",
    "\n"
   ]
  },
  {
   "cell_type": "code",
   "execution_count": 70,
   "metadata": {},
   "outputs": [],
   "source": [
    "# Step 1: Create a new column 'yr_rd2' by rounding 'year' to 2 decimal places (though in practice, 'year' is likely an integer)\n",
    "political_data['yr_rd2'] = political_data['year'].round(2)\n",
    "\n",
    "# Step 2: Keep only rows where 'year' is equal to 'yr_rd2'\n",
    "political_data = political_data[political_data['year'] == political_data['yr_rd2']]"
   ]
  },
  {
   "cell_type": "code",
   "execution_count": 71,
   "metadata": {},
   "outputs": [
    {
     "name": "stdout",
     "output_type": "stream",
     "text": [
      "     state_abbrev  year  shr_dem_in_sess  shr_rep_in_sess  dem_upphse  \\\n",
      "175            NY  1846         0.579700         0.420300    0.725806   \n",
      "2465           IL  1956         0.428105         0.571895    0.372549   \n",
      "2648           WV  1962         0.800625         0.199375    0.781250   \n",
      "2637           PA  1962         0.509524         0.490476    0.500000   \n",
      "1258           AL  1904         0.976099         0.023901    0.971429   \n",
      "\n",
      "      dem_lowhse  rep_upphse  rep_lowhse  gov_party  yr_rd2  \n",
      "175     0.433594    0.274194    0.566406        1.0    1846  \n",
      "2465    0.483660    0.627451    0.516340        2.0    1956  \n",
      "2648    0.820000    0.218750    0.180000        1.0    1962  \n",
      "2637    0.519048    0.500000    0.480952        1.0    1962  \n",
      "1258    0.980769    0.028571    0.019231        1.0    1904  \n"
     ]
    }
   ],
   "source": [
    "print(political_data.sample(5))"
   ]
  },
  {
   "cell_type": "code",
   "execution_count": 72,
   "metadata": {},
   "outputs": [],
   "source": [
    "# Step 1: Sort by 'state_abbrev' and 'year' to ensure data is ordered correctly\n",
    "political_data.sort_values(by=['state_abbrev', 'year'], inplace=True)\n",
    "\n",
    "# Step 2: Fill missing string values for 'state_abbrev' within each group\n",
    "political_data['state_abbrev'] = political_data.groupby('state_abbrev')['state_abbrev'].ffill()\n",
    "\n",
    "# Step 3: Fill missing numerical values for specified columns within each group\n",
    "columns_to_fill = ['shr_dem_in_sess', 'shr_rep_in_sess', 'dem_upphse', 'rep_upphse', 'dem_lowhse', 'rep_lowhse', 'gov_party']\n",
    "political_data[columns_to_fill] = political_data.groupby('state_abbrev')[columns_to_fill].ffill()\n",
    "\n",
    "# Step 3: Drop the 'year' column\n",
    "political_data.drop(columns=['year'], inplace=True)"
   ]
  },
  {
   "cell_type": "code",
   "execution_count": 73,
   "metadata": {},
   "outputs": [
    {
     "name": "stdout",
     "output_type": "stream",
     "text": [
      "     state_abbrev  shr_dem_in_sess  shr_rep_in_sess  dem_upphse  dem_lowhse  \\\n",
      "3428           SC         0.616410         0.379558    0.652174    0.580645   \n",
      "1769           PA         0.142790         0.857210    0.152917    0.132664   \n",
      "826            CO         0.276295         0.723705    0.307692    0.244898   \n",
      "3649           GA         0.529365         0.467857    0.464286    0.594444   \n",
      "309            WI         0.693333         0.306667    0.720000    0.666667   \n",
      "\n",
      "      rep_upphse  rep_lowhse  gov_party  yr_rd2  \n",
      "3428    0.347826    0.411290        2.0    1994  \n",
      "1769    0.847083    0.867336        2.0    1924  \n",
      "826     0.692308    0.755102        1.0    1884  \n",
      "3649    0.535714    0.400000        2.0    2004  \n",
      "309     0.280000    0.333333        1.0    1854  \n"
     ]
    }
   ],
   "source": [
    "print(political_data.sample(5))"
   ]
  },
  {
   "cell_type": "code",
   "execution_count": 74,
   "metadata": {},
   "outputs": [],
   "source": [
    "# Create a function to assign divisions based on state abbreviations\n",
    "def create_division(state_abbrev):\n",
    "    if state_abbrev in ['CT', 'ME', 'MA', 'NH', 'RI', 'VT']:\n",
    "        return 'NE'  # Northeast\n",
    "    elif state_abbrev in ['NJ', 'NY', 'PA']:\n",
    "        return 'MA'  # Mid-Atlantic\n",
    "    elif state_abbrev in ['IL', 'IN', 'MI', 'OH', 'WI']:\n",
    "        return 'ENC'  # East North Central\n",
    "    elif state_abbrev in ['IA', 'KS', 'MN', 'MO', 'NE', 'ND', 'SD']:\n",
    "        return 'WNC'  # West North Central\n",
    "    elif state_abbrev in ['DE', 'DC', 'FL', 'GA', 'MD', 'NC', 'SC', 'VA', 'WV']:\n",
    "        return 'SA'  # South Atlantic\n",
    "    elif state_abbrev in ['AL', 'KY', 'MS', 'TN']:\n",
    "        return 'ESC'  # East South Central\n",
    "    elif state_abbrev in ['AR', 'LA', 'OK', 'TX']:\n",
    "        return 'WSC'  # West South Central\n",
    "    elif state_abbrev in ['AZ', 'CO', 'ID', 'MT', 'NM', 'UT', 'NV', 'WY']:\n",
    "        return 'M'  # Mountain\n",
    "    elif state_abbrev in ['AK', 'CA', 'HI', 'OR', 'WA']:\n",
    "        return 'P'  # Pacific\n",
    "    else:\n",
    "        return None  # For any state abbreviation not in the defined groups\n",
    "\n",
    "# Apply the function to create the 'division' column\n",
    "political_data['division'] = political_data['state_abbrev'].apply(create_division)"
   ]
  },
  {
   "cell_type": "code",
   "execution_count": 75,
   "metadata": {},
   "outputs": [
    {
     "name": "stdout",
     "output_type": "stream",
     "text": [
      "     state_abbrev  shr_dem_in_sess  shr_rep_in_sess  dem_upphse  dem_lowhse  \\\n",
      "723            ME         0.182725         0.817275    0.064516    0.300933   \n",
      "3470           NM         0.650000         0.350000    0.642857    0.657143   \n",
      "729            NE         0.207444         0.792556    0.233796    0.181092   \n",
      "212            VA         0.582206         0.417794    0.671875    0.492537   \n",
      "3948           LA         0.380259         0.619741    0.333333    0.427184   \n",
      "\n",
      "      rep_upphse  rep_lowhse  gov_party  yr_rd2 division  \n",
      "723     0.935484    0.699067        2.0    1878       NE  \n",
      "3470    0.357143    0.342857        2.0    1996        M  \n",
      "729     0.766204    0.818908        2.0    1878      WNC  \n",
      "212     0.328125    0.507463        1.0    1848       SA  \n",
      "3948    0.666667    0.572816        2.0    2016      WSC  \n"
     ]
    }
   ],
   "source": [
    "print(political_data.sample(5))"
   ]
  },
  {
   "cell_type": "code",
   "execution_count": 76,
   "metadata": {},
   "outputs": [],
   "source": [
    "def create_region_from_division(row):\n",
    "    if row['division'] in ['NE', 'MA']:\n",
    "        return 1  # Northeast\n",
    "    elif row['division'] in ['ENC', 'WNC']:\n",
    "        return 2  # Midwest\n",
    "    elif row['division'] in ['SA', 'ESC', 'WSC']:\n",
    "        return 3  # South\n",
    "    elif row['division'] in ['M', 'P']:\n",
    "        return 4  # West\n",
    "    else:\n",
    "        return np.nan\n",
    "\n",
    "political_data['censusregion'] = political_data.apply(create_region_from_division, axis=1)"
   ]
  },
  {
   "cell_type": "code",
   "execution_count": 77,
   "metadata": {},
   "outputs": [],
   "source": [
    "# Keep relevant columns\n",
    "political_data = political_data[['yr_rd2', 'state_abbrev', 'shr_dem_in_sess', 'shr_rep_in_sess', 'gov_party',\n",
    "                                 'dem_upphse', 'rep_upphse', 'dem_lowhse', 'rep_lowhse', 'censusregion']]\n",
    "\n",
    "political_data.rename(columns={'state_abbrev': 'state'}, inplace=True)"
   ]
  },
  {
   "cell_type": "code",
   "execution_count": 79,
   "metadata": {},
   "outputs": [
    {
     "name": "stdout",
     "output_type": "stream",
     "text": [
      "      yr_rd2 state  shr_dem_in_sess  shr_rep_in_sess  gov_party  dem_upphse  \\\n",
      "3741    2008    AR         0.760714         0.239286        1.0    0.771429   \n",
      "1863    1928    NY         0.450196         0.549804        1.0    0.480392   \n",
      "3501    1998    IA         0.445000         0.555000        2.0    0.430000   \n",
      "2459    1956    DE         0.738655         0.261345        2.0    0.705882   \n",
      "1069    1894    VA         1.000000         0.000000        1.0    1.000000   \n",
      "\n",
      "      rep_upphse  dem_lowhse  rep_lowhse  censusregion  \n",
      "3741    0.228571    0.750000    0.250000           3.0  \n",
      "1863    0.519608    0.420000    0.580000           1.0  \n",
      "3501    0.570000    0.460000    0.540000           2.0  \n",
      "2459    0.294118    0.771429    0.228571           3.0  \n",
      "1069    0.000000    1.000000    0.000000           3.0  \n"
     ]
    }
   ],
   "source": [
    "print(political_data.sample(5))"
   ]
  },
  {
   "cell_type": "code",
   "execution_count": null,
   "metadata": {},
   "outputs": [],
   "source": [
    "# Step 1: Create a copy of the DataFrame for the 'polstate1' equivalent\n",
    "polstate1 = political_data.copy()\n",
    "\n",
    "# Step 2: Rename columns to add a suffix '1' for merging\n",
    "columns_to_rename = ['state', 'shr_dem_in_sess', 'shr_rep_in_sess', 'gov_party',\n",
    "                     'dem_upphse', 'rep_upphse', 'dem_lowhse', 'rep_lowhse', 'censusregion']\n",
    "\n",
    "polstate1.rename(columns={col: col + '1' for col in columns_to_rename}, inplace=True)\n",
    "\n",
    "# Step 3: Rename 'yr_rd2' to 'year' in 'polstate1'\n",
    "polstate1.rename(columns={'yr_rd2': 'year'}, inplace=True)\n",
    "\n",
    "# Step 4: Create another copy of the DataFrame for 'polstate2' equivalent\n",
    "polstate2 = political_data.copy()\n",
    "\n",
    "# Step 5: Rename columns to add a suffix '2' for merging\n",
    "polstate2.rename(columns={col: col + '2' for col in columns_to_rename}, inplace=True)\n",
    "\n",
    "# Step 6: Rename 'yr_rd2' to 'year' in 'polstate2'\n",
    "polstate2.rename(columns={'yr_rd2': 'year'}, inplace=True)"
   ]
  },
  {
   "cell_type": "code",
   "execution_count": 85,
   "metadata": {},
   "outputs": [],
   "source": [
    "state_fips = pd.read_csv(os.path.join(parent_dir, \"2_data/1_raw/state_fips.csv\"))\n"
   ]
  }
 ],
 "metadata": {
  "kernelspec": {
   "display_name": "Revekka_first_environment",
   "language": "python",
   "name": "python3"
  },
  "language_info": {
   "codemirror_mode": {
    "name": "ipython",
    "version": 3
   },
   "file_extension": ".py",
   "mimetype": "text/x-python",
   "name": "python",
   "nbconvert_exporter": "python",
   "pygments_lexer": "ipython3",
   "version": "3.11.9"
  }
 },
 "nbformat": 4,
 "nbformat_minor": 2
}
