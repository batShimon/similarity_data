{
 "cells": [
  {
   "cell_type": "code",
   "execution_count": null,
   "metadata": {},
   "outputs": [],
   "source": [
    "import os\n",
    "import os.path as path\n",
    "import pandas as pd\n",
    "import numpy as np\n",
    "import re\n",
    "from tqdm import tqdm\n",
    "import glob"
   ]
  },
  {
   "cell_type": "code",
   "execution_count": null,
   "metadata": {},
   "outputs": [],
   "source": [
    "parent_dir = os.path.abspath(\"/Users/revekkagershovich/Dropbox (MIT)/StateLaws\")\n",
    "os.chdir(parent_dir)\n",
    "assert os.path.exists(parent_dir), \"parent_dir does not exist\"\n",
    "intermed_data_dir = \"./2_data/2_intermediate/political_data\"\n",
    "assert os.path.exists(intermed_data_dir), \"Data directory does not exist\"\n",
    "raw_data_dir = \"./2_data/1_raw/political_data/governor_returns\"\n",
    "assert os.path.exists(raw_data_dir), \"Data directory does not exist\""
   ]
  },
  {
   "cell_type": "code",
   "execution_count": null,
   "metadata": {},
   "outputs": [],
   "source": [
    "# Find all files matching the pattern\n",
    "files = sorted(glob.glob(os.path.join(raw_data_dir, \"export*.csv\")))\n",
    "\n",
    "# Load and concatenate them\n",
    "df = pd.concat((pd.read_csv(f, skiprows=2) for f in files), ignore_index=True)"
   ]
  },
  {
   "cell_type": "code",
   "execution_count": null,
   "metadata": {},
   "outputs": [],
   "source": [
    "# Define the list of Republican-aligned third parties\n",
    "republican_third_parties = [\n",
    "    'Republican, Prohibition, and Progressive', 'Lily-White Republican',\n",
    "    'Republican-Greenback-Fusion', 'Republican and Temperance',\n",
    "    'Conservative Republican', 'Conservative', 'Union',\n",
    "    'Whig', 'Opposition', 'Distributionist Candidate','American', \n",
    "    'Fremont American', 'Fusion', 'American and Republican', \n",
    "    'Know-Nothing', 'Whig Anti-Rent', 'Liberation Whig', \n",
    "    'Law and Order', 'Independent Whig', 'Anti-Masonic', \n",
    "    'State Rights', 'Constitution', 'Anti-Mason',\n",
    "    'National Republican', 'Anti-Jackson', 'Clay Republican',\n",
    "    'Democrat-Republican', 'Adams Republican', 'Federalist',\n",
    "    'Clinton Republican', 'Republican-Federalist Fusion', 'Old Republican'\n",
    "]\n",
    "\n",
    "# Define the list of Democratic-aligned third parties\n",
    "democratic_third_parties = [\n",
    "    'Democrat', 'Independent Democrat', 'Democrat-Labor-Peoples',\n",
    "    'Democrat-Fusion', 'Democrat-Peoples',\n",
    "    \"People's Party\", 'Populist', 'Liberal', \n",
    "    'Democrat-National Green Labor', 'Low Tax Democrat',\n",
    "    'State Credit Democrat', 'Butler Democrat and Greenback', 'Douglas Democrat',\n",
    "    'Anti-Redemption Democrat', 'Jackson',\n",
    "    'Democrat Farmer-Labor', 'Farmer-Labor'\n",
    "]"
   ]
  },
  {
   "cell_type": "code",
   "execution_count": null,
   "metadata": {},
   "outputs": [],
   "source": [
    "df = df[df['Office'] == \"Governor\"]\n",
    "\n",
    "# Dictionary mapping state names to abbreviations\n",
    "state_to_abbrev = {\n",
    "    'Alabama': 'AL', 'Alaska': 'AK', 'Arizona': 'AZ', 'Arkansas': 'AR', 'California': 'CA',\n",
    "    'Colorado': 'CO', 'Connecticut': 'CT', 'Delaware': 'DE', 'Florida': 'FL', 'Georgia': 'GA',\n",
    "    'Hawaii': 'HI', 'Idaho': 'ID', 'Illinois': 'IL', 'Indiana': 'IN', 'Iowa': 'IA', 'Kansas': 'KS',\n",
    "    'Kentucky': 'KY', 'Louisiana': 'LA', 'Maine': 'ME', 'Maryland': 'MD', 'Massachusetts': 'MA',\n",
    "    'Michigan': 'MI', 'Minnesota': 'MN', 'Mississippi': 'MS', 'Missouri': 'MO', 'Montana': 'MT',\n",
    "    'Nebraska': 'NE', 'Nevada': 'NV', 'New Hampshire': 'NH', 'New Jersey': 'NJ', 'New Mexico': 'NM', \n",
    "    'New York': 'NY', 'North Carolina': 'NC', 'North Dakota': 'ND', 'Ohio': 'OH', 'Oklahoma': 'OK', \n",
    "    'Oregon': 'OR', 'Pennsylvania': 'PA', 'Rhode Island': 'RI', 'South Carolina': 'SC', \n",
    "    'South Dakota': 'SD', 'Tennessee': 'TN', 'Texas': 'TX', 'Utah': 'UT', 'Vermont': 'VT', \n",
    "    'Virginia': 'VA', 'Washington': 'WA', 'West Virginia': 'WV', 'Wisconsin': 'WI', 'Wyoming': 'WY'}\n",
    "\n",
    "# Add a new column to the DataFrame with the abbreviations\n",
    "df.loc[:, 'state_abbrev'] = df['Area'].map(state_to_abbrev)\n",
    "\n",
    "# Keep only the needed columns and rename for clarity\n",
    "df = df.drop(columns= ['Area', 'CensusPop', 'Office', 'RaceTypeName', 'RepStatus', 'RepCandidate', \n",
    "'DemStatus', 'DemCandidate', 'ThirdStatus', 'ThirdCandidate', 'RaceNotes'])\n",
    "\n",
    "df.rename(columns={'raceYear': 'year', 'RepVotes': 'republican_votes', 'DemVotes': 'democratic_votes',\n",
    "                     'ThirdVotes': 'third_party_votes', 'OtherVotes': 'other_votes', \n",
    "                     'ThirdParty': 'third_party_name', 'PluralityParty': 'plurality_party_abbrev',\n",
    "                    'PluralityVotes': 'plurality_votes', 'ThirdVotesTotalPercent': 'third_party_total_vote_share',\n",
    "                    'RepVotesMajorPercent': 'republican_major_vote_share', 'DemVotesMajorPercent': 'democratic_major_vote_share'}, inplace=True)\n",
    "\n",
    "df['year'] = df['year'].astype(str).str[:4]  # Convert to string & keep only first 4 digits\n",
    "df['year'] = df['year'].astype(int)  # Convert back to integer\n",
    "\n",
    "cols_to_convert = ['republican_votes', 'democratic_votes', 'third_party_votes', 'other_votes', 'plurality_votes', \n",
    "                     'republican_major_vote_share', 'democratic_major_vote_share', 'third_party_total_vote_share']\n",
    "\n",
    "for col in cols_to_convert:\n",
    "    df[col] = df[col].str.replace(r'[^\\d.-]', '', regex=True)\n",
    "    df[col] = pd.to_numeric(df[col], errors='coerce')\n",
    "\n",
    "df['total_votes'] = df[['republican_votes', 'democratic_votes', 'third_party_votes', 'other_votes']].sum(axis=1, skipna=True)\n",
    "df['republican_total_vote_share'] = ((df['republican_votes'] / df['total_votes'])*100).round(2)\n",
    "df['democratic_total_vote_share'] = ((df['democratic_votes'] / df['total_votes'])*100).round(2)"
   ]
  },
  {
   "cell_type": "code",
   "execution_count": null,
   "metadata": {},
   "outputs": [],
   "source": [
    "# Identify rows where republican_votes is NaN and ThirdParty belongs to the Republican-aligned list\n",
    "mask = df['republican_votes'].isna() & df['third_party_name'].isin(republican_third_parties)\n",
    "\n",
    "# Copy values from third_party_votes and ThirdCandidate into republican_votes and RepCandidate\n",
    "df.loc[mask, 'republican_votes'] = df.loc[mask, 'third_party_votes']\n",
    "# df.loc[mask, 'RepCandidate'] = df.loc[mask, 'ThirdCandidate']\n",
    "\n",
    "# Remove values from third_party_votes and ThirdCandidate by setting them to NaN\n",
    "df.loc[mask, ['third_party_votes', 'third_party_total_vote_share']] = np.nan\n",
    "\n",
    "# Identify rows where democratic_votes is NaN and ThirdParty belongs to the Democratic-aligned list\n",
    "mask = df['democratic_votes'].isna() & df['third_party_name'].isin(democratic_third_parties)\n",
    "\n",
    "# Copy values from third_party_votes and ThirdCandidate into democratic_votes and DemCandidate\n",
    "df.loc[mask, 'democratic_votes'] = df.loc[mask, 'third_party_votes']\n",
    "# df.loc[mask, 'DemCandidate'] = df.loc[mask, 'ThirdCandidate']\n",
    "\n",
    "# Remove values from third_party_votes and ThirdCandidate by setting them to NaN\n",
    "df.loc[mask, ['third_party_votes', 'third_party_total_vote_share']] = np.nan\n",
    "\n",
    "# Drop rows where republican_votes and democratic_votes are both NaN (4.43% of the data)\n",
    "df = df[~((df[\"republican_votes\"].isna() | df[\"democratic_votes\"].isna()) & (df[\"third_party_total_vote_share\"] >= 10))]"
   ]
  },
  {
   "cell_type": "code",
   "execution_count": null,
   "metadata": {},
   "outputs": [],
   "source": [
    "df_missing_votes = df[df[\"republican_votes\"].isna() | df[\"democratic_votes\"].isna()]\n",
    "df_major_third_party = df[df['third_party_total_vote_share'] >= 10]\n",
    "df_missing_votes_major_third_party = df_missing_votes[df_missing_votes['third_party_total_vote_share'] >= 10]\n",
    "\n",
    "print(f\"Number of rows in the dataset: {df.shape[0]}\")\n",
    "print(f\"Number of rows with missing votes: {df_missing_votes.shape[0]}\")\n",
    "print(f\"Number of rows with major third party: {df_major_third_party.shape[0]}\")\n",
    "print(f\"Number of rows with missing votes and major third party: {df_missing_votes_major_third_party.shape[0]}\")\n",
    "\n",
    "print(f\"Percent of rows with missing votes for reps or dems and a major third party: {df_missing_votes_major_third_party.shape[0] / df.shape[0] * 100:.2f}%\")"
   ]
  },
  {
   "cell_type": "code",
   "execution_count": null,
   "metadata": {},
   "outputs": [],
   "source": [
    "# random state 9 selects 19th century\n",
    "df.sample(5, random_state=15)"
   ]
  }
 ],
 "metadata": {
  "kernelspec": {
   "display_name": "Revekka_first_environment",
   "language": "python",
   "name": "python3"
  },
  "language_info": {
   "codemirror_mode": {
    "name": "ipython",
    "version": 3
   },
   "file_extension": ".py",
   "mimetype": "text/x-python",
   "name": "python",
   "nbconvert_exporter": "python",
   "pygments_lexer": "ipython3",
   "version": "3.11.9"
  }
 },
 "nbformat": 4,
 "nbformat_minor": 2
}
