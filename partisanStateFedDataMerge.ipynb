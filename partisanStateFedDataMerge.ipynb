{
 "cells": [
  {
   "cell_type": "markdown",
   "metadata": {},
   "source": [
    "**Created by:** Revekka Gershovich Date: Oct 21 Purpose: To merge cleaned data filed containing Federal and State partisan data compositions. \n",
    "\n",
    "Note that Republican and Democratic parties are actually a number of ancestor and closely aligned parties commonly considered together by political scientist merged into one. That is why there is data for Republican party before 1854. Democrats (1 in pres_gov_party) also contain a Jackson (Democrats) party (1829-1854). Republicans (2 in pres_gov_party) also contain Whig party (1834-1856), Anti-Jacksonian party (1824-1837), and Opposition Coalition which includes Whig + Republican + Free Soil parties (1850-1856). \n",
    "\n",
    "For more details see ICPRS 16 documentation for state partisan data (in 2_data/1_raw/political_data folder), and for more details on federal partisan data see cleanWikiFedData.ipynb in 1_code/econ_geog_poli_similarity_code/political_similarity_code. \n",
    "\n",
    "**Previous files:** cleanWikiFedData.ipynb and merging_Klaner_and_ICPSR.ipynb"
   ]
  },
  {
   "cell_type": "code",
   "execution_count": 36,
   "metadata": {},
   "outputs": [],
   "source": [
    "import os\n",
    "import os.path as path\n",
    "import pandas as pd\n",
    "import numpy as np"
   ]
  },
  {
   "cell_type": "code",
   "execution_count": 37,
   "metadata": {},
   "outputs": [],
   "source": [
    "parent_dir = os.path.abspath(\"/Users/revekkagershovich/Dropbox (MIT)/StateLaws\")\n",
    "os.chdir(parent_dir)\n",
    "assert os.path.exists(parent_dir), \"parent_dir does not exist\"\n",
    "intermed_data_dir = \"./2_data/2_intermediate/political_data\"\n",
    "assert os.path.exists(intermed_data_dir), \"Data directory does not exist\"\n",
    "raw_data_dir = \"./2_data/1_raw/political_data/all_partisanComposition\"\n",
    "assert os.path.exists(raw_data_dir), \"Data directory does not exist\""
   ]
  },
  {
   "cell_type": "code",
   "execution_count": 38,
   "metadata": {},
   "outputs": [],
   "source": [
    "# Loading data\n",
    "state_df = pd.read_csv(path.join(intermed_data_dir, 'state_politicalComposition.csv'))\n",
    "fed_df = pd.read_csv(path.join(intermed_data_dir, \"federal_political_composition.csv\"))"
   ]
  },
  {
   "cell_type": "code",
   "execution_count": 39,
   "metadata": {},
   "outputs": [
    {
     "data": {
      "text/plain": [
       "0       1834\n",
       "1       1834\n",
       "2       1834\n",
       "3       1834\n",
       "4       1834\n",
       "        ... \n",
       "8219    2020\n",
       "8220    2020\n",
       "8221    2020\n",
       "8222    2020\n",
       "8223    1974\n",
       "Name: year, Length: 8224, dtype: int64"
      ]
     },
     "execution_count": 39,
     "metadata": {},
     "output_type": "execute_result"
    }
   ],
   "source": [
    "state_df['year']"
   ]
  },
  {
   "cell_type": "code",
   "execution_count": 40,
   "metadata": {},
   "outputs": [],
   "source": [
    "state_df['year'] = state_df['year'].astype('int64')\n",
    "fed_df.rename(columns={'president_party': 'gov_party'}, inplace=True)\n",
    "state_df.rename(columns={'gov_party': 'gov_party'}, inplace=True)\n"
   ]
  },
  {
   "cell_type": "code",
   "execution_count": 41,
   "metadata": {},
   "outputs": [],
   "source": [
    "# Add a variable called 'state_abbrev' to state_df, and populate it with the value \"Federal\"\n",
    "fed_df['state_abbrev'] = \"FD\""
   ]
  },
  {
   "cell_type": "code",
   "execution_count": 42,
   "metadata": {},
   "outputs": [],
   "source": [
    "# Concatenate the two DataFrames (along columns)\n",
    "df = pd.concat([state_df, fed_df], axis=0, ignore_index=True)\n",
    "df = df.sort_values(by=['year', 'state_abbrev']).reset_index(drop=True)\n",
    "# df['index'] = df['index'].astype('int64')"
   ]
  },
  {
   "cell_type": "code",
   "execution_count": 43,
   "metadata": {},
   "outputs": [
    {
     "name": "stdout",
     "output_type": "stream",
     "text": [
      "   year state_abbrev  gov_party  dem_upphse  rep_upphse  dem_lowhse  \\\n",
      "0  1833           FD        1.0    0.416667    0.541667    0.595833   \n",
      "1  1834           AL        1.0         NaN         NaN         NaN   \n",
      "2  1834           CT        NaN    0.190476    0.809524    0.242718   \n",
      "3  1834           DE        1.0    0.333333    0.666667    0.333333   \n",
      "4  1834           FD        1.0    0.500000    0.461538    0.590909   \n",
      "\n",
      "   rep_lowhse  shr_dem_in_sess  shr_rep_in_sess  \n",
      "0    0.262500         0.565972         0.309028  \n",
      "1         NaN              NaN              NaN  \n",
      "2    0.757282         0.237885         0.762115  \n",
      "3    0.666667         0.333333         0.666667  \n",
      "4    0.309917         0.574830         0.336735  \n"
     ]
    }
   ],
   "source": [
    "print(df.head())"
   ]
  },
  {
   "cell_type": "code",
   "execution_count": 44,
   "metadata": {},
   "outputs": [
    {
     "name": "stdout",
     "output_type": "stream",
     "text": [
      "['FD' 'AL' 'CT' 'DE' 'GA' 'IL' 'IN' 'KY' 'LA' 'MA' 'MD' 'ME' 'MO' 'MS'\n",
      " 'NC' 'NH' 'NJ' 'NY' 'OH' 'PA' 'RI' 'SC' 'TN' 'VA' 'VT' 'AR' 'MI' 'FL'\n",
      " 'TX' 'IA' 'WI' 'CA' 'MN' 'OR' 'KS' 'WV' 'NV' 'NE' 'CO' 'MT' 'ND' 'SD'\n",
      " 'WA' 'ID' 'WY' 'UT' 'OK' 'AZ' 'NM' 'AK' 'HI']\n"
     ]
    }
   ],
   "source": [
    "print(df[\"state_abbrev\"].unique())"
   ]
  },
  {
   "cell_type": "code",
   "execution_count": 45,
   "metadata": {},
   "outputs": [],
   "source": [
    "df.to_stata(path.join(intermed_data_dir, \"political_composition.dta\"), write_index=False)\n",
    "df.to_csv(path.join(intermed_data_dir, \"political_composition.csv\"), index=False)"
   ]
  }
 ],
 "metadata": {
  "kernelspec": {
   "display_name": ".venv",
   "language": "python",
   "name": "python3"
  },
  "language_info": {
   "codemirror_mode": {
    "name": "ipython",
    "version": 3
   },
   "file_extension": ".py",
   "mimetype": "text/x-python",
   "name": "python",
   "nbconvert_exporter": "python",
   "pygments_lexer": "ipython3",
   "version": "3.11.9"
  }
 },
 "nbformat": 4,
 "nbformat_minor": 2
}
