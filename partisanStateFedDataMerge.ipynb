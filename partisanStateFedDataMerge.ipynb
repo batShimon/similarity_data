{
 "cells": [
  {
   "cell_type": "markdown",
   "metadata": {},
   "source": [
    "Created by: Revekka Gershovich Date: Oct 21 Purpose: To merge cleaned data filed containing Federal and State partisan data compositions. \n",
    "\n",
    "Note that Republican and Democratic parties are actually a number of ancestor and closely aligned parties commonly considered together by political scientist merged into one. That is why there is data for Republican party before 1854. Democrats (1 in pres_gov_party) also contain a Jackson (Democrats) party (1829-1854). Republicans (2 in pres_gov_party) also contain Whig party (1834-1856), Anti-Jacksonian party (1824-1837), and Opposition Coalition which includes Whig + Republican + Free Soil parties (1850-1856). \n",
    "\n",
    "For more details see ICPRS 16 documentation for state partisan data (in 2_data/1_raw/political_data folder), and for more details on federal partisan data see CleaningFederalPartisanData.ipynb in 1_code/econ_geog_poli_similarity_code/political_similarity_code. "
   ]
  },
  {
   "cell_type": "code",
   "execution_count": 19,
   "metadata": {},
   "outputs": [],
   "source": [
    "import os\n",
    "import os.path as path\n",
    "import pandas as pd\n",
    "import numpy as np"
   ]
  },
  {
   "cell_type": "code",
   "execution_count": 20,
   "metadata": {},
   "outputs": [],
   "source": [
    "# parent_dir = os.path.abspath(\"/Users/rivka666/Dropbox (MIT)/StateLaws\")\n",
    "parent_dir = os.path.abspath(\"/Users/revekkagershovich/Dropbox (MIT)/StateLaws\")\n",
    "os.chdir(parent_dir)\n",
    "assert os.path.exists(parent_dir), \"parent_dir does not exist\"\n",
    "data_dir = \"./2_data/2_intermediate/political_data\"\n",
    "assert os.path.exists(data_dir), \"Data directory does not exist\""
   ]
  },
  {
   "cell_type": "code",
   "execution_count": 21,
   "metadata": {},
   "outputs": [],
   "source": [
    "# Loading data\n",
    "state_df = pd.read_stata(path.join(data_dir, \"political_composition_no_fed.dta\"))\n",
    "fed_df = pd.read_csv(path.join(data_dir, \"federal_political_composition.csv\"))"
   ]
  },
  {
   "cell_type": "code",
   "execution_count": 22,
   "metadata": {},
   "outputs": [],
   "source": [
    "state_df['yr_rd2'] = state_df['yr_rd2'].astype('int64')\n",
    "fed_df.rename(columns={'president_party': 'gov_party'}, inplace=True)\n",
    "state_df.rename(columns={'gov_party': 'gov_party'}, inplace=True)\n"
   ]
  },
  {
   "cell_type": "code",
   "execution_count": 23,
   "metadata": {},
   "outputs": [],
   "source": [
    "# Add a variable called 'state_abbrev' to state_df, and populate it with the value \"Federal\"\n",
    "fed_df['state_abbrev'] = \"FD\""
   ]
  },
  {
   "cell_type": "code",
   "execution_count": 24,
   "metadata": {},
   "outputs": [],
   "source": [
    "# Concatenate the two DataFrames (along columns)\n",
    "df = pd.concat([state_df, fed_df], axis=0, ignore_index=True)\n",
    "df = df.sort_values(by=['yr_rd2', 'state_abbrev']).reset_index(drop=True)\n",
    "# df['index'] = df['index'].astype('int64')"
   ]
  },
  {
   "cell_type": "code",
   "execution_count": 25,
   "metadata": {},
   "outputs": [
    {
     "name": "stdout",
     "output_type": "stream",
     "text": [
      "  state_abbrev  yr_rd2  shr_dem_in_sess  shr_rep_in_sess  dem_upphse  \\\n",
      "0           AL    1834         0.527778         0.472222    0.555556   \n",
      "1           CT    1834         0.216597         0.783403    0.190476   \n",
      "2           DE    1834         0.333333         0.666667    0.333333   \n",
      "3           FD    1834         0.565972         0.309028    0.416667   \n",
      "4           GA    1834         0.704487         0.295513    0.692308   \n",
      "\n",
      "   dem_lowhse  rep_upphse  rep_lowhse  gov_party  \n",
      "0    0.500000    0.444444    0.500000        1.0  \n",
      "1    0.242718    0.809524    0.757282        NaN  \n",
      "2    0.333333    0.666667    0.666667        1.0  \n",
      "3    0.595833    0.541667    0.262500        1.0  \n",
      "4    0.716667    0.307692    0.283333        NaN  \n"
     ]
    }
   ],
   "source": [
    "print(df.head())"
   ]
  },
  {
   "cell_type": "code",
   "execution_count": 26,
   "metadata": {},
   "outputs": [
    {
     "name": "stdout",
     "output_type": "stream",
     "text": [
      "['AL' 'CT' 'DE' 'FD' 'GA' 'IL' 'IN' 'KY' 'LA' 'MA' 'MD' 'ME' 'MO' 'MS'\n",
      " 'NC' 'NH' 'NJ' 'NY' 'OH' 'PA' 'RI' 'SC' 'TN' 'VA' 'VT' 'AR' 'MI' 'FL'\n",
      " 'IA' 'TX' 'WI' 'CA' 'MN' 'OR' 'KS' 'NV' 'WV' 'NE' 'CO' 'ID' 'MT' 'ND'\n",
      " 'SD' 'WA' 'WY' 'UT' 'OK' 'AZ' 'NM' 'HI' 'AK']\n"
     ]
    }
   ],
   "source": [
    "print(df[\"state_abbrev\"].unique())"
   ]
  },
  {
   "cell_type": "code",
   "execution_count": 27,
   "metadata": {},
   "outputs": [],
   "source": [
    "df.to_stata(path.join(data_dir, \"political_composition.dta\"), write_index=False)\n",
    "df.to_csv(path.join(data_dir, \"political_composition.csv\"), index=False)"
   ]
  }
 ],
 "metadata": {
  "kernelspec": {
   "display_name": ".venv",
   "language": "python",
   "name": "python3"
  },
  "language_info": {
   "codemirror_mode": {
    "name": "ipython",
    "version": 3
   },
   "file_extension": ".py",
   "mimetype": "text/x-python",
   "name": "python",
   "nbconvert_exporter": "python",
   "pygments_lexer": "ipython3",
   "version": "3.11.9"
  }
 },
 "nbformat": 4,
 "nbformat_minor": 2
}
