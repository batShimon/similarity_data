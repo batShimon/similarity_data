{
 "cells": [
  {
   "cell_type": "markdown",
   "metadata": {},
   "source": [
    "**Created by:** Revekka Gershovich\n",
    "**When:** Nov 25, 2024\n",
    "**Purpose:** \n",
    "**Question from Nicolas:** \"Also a quick question regarding the political composition. By looking at the data I noticed that the presidency/governor and chamber compositions seem to have the wrong years (e.g., in 2008 the Dems hold both chambers and the Presidency but it is coded as 2010). I assume it's coming from a rounding but I wanted to make sure. Could you double check?\"\n",
    "**Answer:**  It turned out that by state we coded by year of election, and I coded for middle year. \n",
    "**Question from Nicolas:** \n",
    "When you have the time, could you look at which legislatures/governors we are missing using the biennium approach as we talked about? \n",
    "\n"
   ]
  },
  {
   "cell_type": "code",
   "execution_count": 27,
   "metadata": {},
   "outputs": [],
   "source": [
    "import os\n",
    "import os.path as path\n",
    "import pandas as pd\n",
    "import numpy as np"
   ]
  },
  {
   "cell_type": "code",
   "execution_count": 28,
   "metadata": {},
   "outputs": [],
   "source": [
    "parent_dir = os.path.abspath(\"/Users/revekkagershovich/Dropbox (MIT)/StateLaws\")\n",
    "os.chdir(parent_dir)\n",
    "assert os.path.exists(parent_dir), \"parent_dir does not exist\"\n",
    "data_dir = \"./2_data/2_intermediate/political_data\"\n",
    "assert os.path.exists(data_dir), \"Data directory does not exist\""
   ]
  },
  {
   "cell_type": "code",
   "execution_count": 29,
   "metadata": {},
   "outputs": [],
   "source": [
    "df = pd.read_csv(path.join(data_dir, \"political_composition.csv\"))\n",
    "state_df = pd.read_stata(path.join(data_dir, \"political_composition_no_fed.dta\"))\n",
    "fed_df = pd.read_csv(path.join(data_dir, \"federal_political_composition.csv\"))"
   ]
  },
  {
   "cell_type": "code",
   "execution_count": 43,
   "metadata": {},
   "outputs": [
    {
     "data": {
      "text/html": [
       "<div>\n",
       "<style scoped>\n",
       "    .dataframe tbody tr th:only-of-type {\n",
       "        vertical-align: middle;\n",
       "    }\n",
       "\n",
       "    .dataframe tbody tr th {\n",
       "        vertical-align: top;\n",
       "    }\n",
       "\n",
       "    .dataframe thead th {\n",
       "        text-align: right;\n",
       "    }\n",
       "</style>\n",
       "<table border=\"1\" class=\"dataframe\">\n",
       "  <thead>\n",
       "    <tr style=\"text-align: right;\">\n",
       "      <th></th>\n",
       "      <th>state_abbrev</th>\n",
       "      <th>yr_rd2</th>\n",
       "      <th>shr_dem_in_sess</th>\n",
       "      <th>shr_rep_in_sess</th>\n",
       "      <th>dem_upphse</th>\n",
       "      <th>dem_lowhse</th>\n",
       "      <th>rep_upphse</th>\n",
       "      <th>rep_lowhse</th>\n",
       "      <th>gov_party</th>\n",
       "    </tr>\n",
       "  </thead>\n",
       "  <tbody>\n",
       "    <tr>\n",
       "      <th>3902</th>\n",
       "      <td>WY</td>\n",
       "      <td>2018.0</td>\n",
       "      <td>0.125000</td>\n",
       "      <td>0.875000</td>\n",
       "      <td>0.100000</td>\n",
       "      <td>0.150000</td>\n",
       "      <td>0.900000</td>\n",
       "      <td>0.850000</td>\n",
       "      <td>2.0</td>\n",
       "    </tr>\n",
       "    <tr>\n",
       "      <th>3903</th>\n",
       "      <td>MS</td>\n",
       "      <td>2020.0</td>\n",
       "      <td>0.379414</td>\n",
       "      <td>0.620586</td>\n",
       "      <td>0.365385</td>\n",
       "      <td>0.393443</td>\n",
       "      <td>0.634615</td>\n",
       "      <td>0.606557</td>\n",
       "      <td>2.0</td>\n",
       "    </tr>\n",
       "  </tbody>\n",
       "</table>\n",
       "</div>"
      ],
      "text/plain": [
       "     state_abbrev  yr_rd2  shr_dem_in_sess  shr_rep_in_sess  dem_upphse  \\\n",
       "3902           WY  2018.0         0.125000         0.875000    0.100000   \n",
       "3903           MS  2020.0         0.379414         0.620586    0.365385   \n",
       "\n",
       "      dem_lowhse  rep_upphse  rep_lowhse  gov_party  \n",
       "3902    0.150000    0.900000    0.850000        2.0  \n",
       "3903    0.393443    0.634615    0.606557        2.0  "
      ]
     },
     "execution_count": 43,
     "metadata": {},
     "output_type": "execute_result"
    }
   ],
   "source": [
    "state_df.tail(2)"
   ]
  },
  {
   "cell_type": "code",
   "execution_count": 47,
   "metadata": {},
   "outputs": [],
   "source": [
    "state_df[['dem_upphse', 'dem_lowhse', 'gov_party']].isnull().sum()\n",
    "missing_rows = state_df[state_df[['dem_upphse', 'dem_lowhse', 'gov_party']].isnull().any(axis=1)]"
   ]
  },
  {
   "cell_type": "markdown",
   "metadata": {},
   "source": [
    "Two reasons data for gubernatorial elections is missing: \n",
    "1. elections in odd years\n",
    "2. non-republicans and non-democrats are missing"
   ]
  },
  {
   "cell_type": "code",
   "execution_count": 49,
   "metadata": {},
   "outputs": [
    {
     "data": {
      "text/html": [
       "<div>\n",
       "<style scoped>\n",
       "    .dataframe tbody tr th:only-of-type {\n",
       "        vertical-align: middle;\n",
       "    }\n",
       "\n",
       "    .dataframe tbody tr th {\n",
       "        vertical-align: top;\n",
       "    }\n",
       "\n",
       "    .dataframe thead th {\n",
       "        text-align: right;\n",
       "    }\n",
       "</style>\n",
       "<table border=\"1\" class=\"dataframe\">\n",
       "  <thead>\n",
       "    <tr style=\"text-align: right;\">\n",
       "      <th></th>\n",
       "      <th>state_abbrev</th>\n",
       "      <th>yr_rd2</th>\n",
       "      <th>shr_dem_in_sess</th>\n",
       "      <th>shr_rep_in_sess</th>\n",
       "      <th>dem_upphse</th>\n",
       "      <th>dem_lowhse</th>\n",
       "      <th>rep_upphse</th>\n",
       "      <th>rep_lowhse</th>\n",
       "      <th>gov_party</th>\n",
       "    </tr>\n",
       "  </thead>\n",
       "  <tbody>\n",
       "    <tr>\n",
       "      <th>3824</th>\n",
       "      <td>NE</td>\n",
       "      <td>2014.0</td>\n",
       "      <td>NaN</td>\n",
       "      <td>NaN</td>\n",
       "      <td>NaN</td>\n",
       "      <td>NaN</td>\n",
       "      <td>NaN</td>\n",
       "      <td>NaN</td>\n",
       "      <td>2.0</td>\n",
       "    </tr>\n",
       "    <tr>\n",
       "      <th>3838</th>\n",
       "      <td>VA</td>\n",
       "      <td>2014.0</td>\n",
       "      <td>0.408377</td>\n",
       "      <td>0.591623</td>\n",
       "      <td>0.493590</td>\n",
       "      <td>0.323163</td>\n",
       "      <td>0.506410</td>\n",
       "      <td>0.676837</td>\n",
       "      <td>NaN</td>\n",
       "    </tr>\n",
       "    <tr>\n",
       "      <th>3842</th>\n",
       "      <td>AK</td>\n",
       "      <td>2016.0</td>\n",
       "      <td>0.355128</td>\n",
       "      <td>0.644872</td>\n",
       "      <td>0.300000</td>\n",
       "      <td>0.410256</td>\n",
       "      <td>0.700000</td>\n",
       "      <td>0.589744</td>\n",
       "      <td>NaN</td>\n",
       "    </tr>\n",
       "    <tr>\n",
       "      <th>3863</th>\n",
       "      <td>ND</td>\n",
       "      <td>2016.0</td>\n",
       "      <td>0.292553</td>\n",
       "      <td>0.707447</td>\n",
       "      <td>0.340426</td>\n",
       "      <td>0.244681</td>\n",
       "      <td>0.659574</td>\n",
       "      <td>0.755319</td>\n",
       "      <td>NaN</td>\n",
       "    </tr>\n",
       "    <tr>\n",
       "      <th>3878</th>\n",
       "      <td>AK</td>\n",
       "      <td>2018.0</td>\n",
       "      <td>0.373684</td>\n",
       "      <td>0.626316</td>\n",
       "      <td>0.300000</td>\n",
       "      <td>0.447368</td>\n",
       "      <td>0.700000</td>\n",
       "      <td>0.552632</td>\n",
       "      <td>NaN</td>\n",
       "    </tr>\n",
       "  </tbody>\n",
       "</table>\n",
       "</div>"
      ],
      "text/plain": [
       "     state_abbrev  yr_rd2  shr_dem_in_sess  shr_rep_in_sess  dem_upphse  \\\n",
       "3824           NE  2014.0              NaN              NaN         NaN   \n",
       "3838           VA  2014.0         0.408377         0.591623    0.493590   \n",
       "3842           AK  2016.0         0.355128         0.644872    0.300000   \n",
       "3863           ND  2016.0         0.292553         0.707447    0.340426   \n",
       "3878           AK  2018.0         0.373684         0.626316    0.300000   \n",
       "\n",
       "      dem_lowhse  rep_upphse  rep_lowhse  gov_party  \n",
       "3824         NaN         NaN         NaN        2.0  \n",
       "3838    0.323163    0.506410    0.676837        NaN  \n",
       "3842    0.410256    0.700000    0.589744        NaN  \n",
       "3863    0.244681    0.659574    0.755319        NaN  \n",
       "3878    0.447368    0.700000    0.552632        NaN  "
      ]
     },
     "execution_count": 49,
     "metadata": {},
     "output_type": "execute_result"
    }
   ],
   "source": [
    "missing_rows.tail()"
   ]
  },
  {
   "cell_type": "code",
   "execution_count": 30,
   "metadata": {},
   "outputs": [
    {
     "data": {
      "text/html": [
       "<div>\n",
       "<style scoped>\n",
       "    .dataframe tbody tr th:only-of-type {\n",
       "        vertical-align: middle;\n",
       "    }\n",
       "\n",
       "    .dataframe tbody tr th {\n",
       "        vertical-align: top;\n",
       "    }\n",
       "\n",
       "    .dataframe thead th {\n",
       "        text-align: right;\n",
       "    }\n",
       "</style>\n",
       "<table border=\"1\" class=\"dataframe\">\n",
       "  <thead>\n",
       "    <tr style=\"text-align: right;\">\n",
       "      <th></th>\n",
       "      <th>yr_rd2</th>\n",
       "      <th>shr_dem_in_sess</th>\n",
       "      <th>shr_rep_in_sess</th>\n",
       "      <th>dem_lowhse</th>\n",
       "      <th>rep_lowhse</th>\n",
       "      <th>dem_upphse</th>\n",
       "      <th>rep_upphse</th>\n",
       "      <th>president_party</th>\n",
       "    </tr>\n",
       "  </thead>\n",
       "  <tbody>\n",
       "    <tr>\n",
       "      <th>86</th>\n",
       "      <td>2006</td>\n",
       "      <td>0.527103</td>\n",
       "      <td>0.469159</td>\n",
       "      <td>0.535632</td>\n",
       "      <td>0.464368</td>\n",
       "      <td>0.49</td>\n",
       "      <td>0.49</td>\n",
       "      <td>2.0</td>\n",
       "    </tr>\n",
       "    <tr>\n",
       "      <th>87</th>\n",
       "      <td>2008</td>\n",
       "      <td>0.588785</td>\n",
       "      <td>0.411215</td>\n",
       "      <td>0.590805</td>\n",
       "      <td>0.409195</td>\n",
       "      <td>0.58</td>\n",
       "      <td>0.42</td>\n",
       "      <td>1.0</td>\n",
       "    </tr>\n",
       "    <tr>\n",
       "      <th>88</th>\n",
       "      <td>2010</td>\n",
       "      <td>0.456075</td>\n",
       "      <td>0.540187</td>\n",
       "      <td>0.443678</td>\n",
       "      <td>0.556322</td>\n",
       "      <td>0.51</td>\n",
       "      <td>0.47</td>\n",
       "      <td>1.0</td>\n",
       "    </tr>\n",
       "    <tr>\n",
       "      <th>89</th>\n",
       "      <td>2012</td>\n",
       "      <td>0.474766</td>\n",
       "      <td>0.521495</td>\n",
       "      <td>0.462069</td>\n",
       "      <td>0.537931</td>\n",
       "      <td>0.53</td>\n",
       "      <td>0.45</td>\n",
       "      <td>1.0</td>\n",
       "    </tr>\n",
       "    <tr>\n",
       "      <th>90</th>\n",
       "      <td>2014</td>\n",
       "      <td>0.433645</td>\n",
       "      <td>0.562617</td>\n",
       "      <td>0.432184</td>\n",
       "      <td>0.567816</td>\n",
       "      <td>0.44</td>\n",
       "      <td>0.54</td>\n",
       "      <td>1.0</td>\n",
       "    </tr>\n",
       "    <tr>\n",
       "      <th>91</th>\n",
       "      <td>2016</td>\n",
       "      <td>0.450467</td>\n",
       "      <td>0.547664</td>\n",
       "      <td>0.445977</td>\n",
       "      <td>0.554023</td>\n",
       "      <td>0.47</td>\n",
       "      <td>0.52</td>\n",
       "      <td>2.0</td>\n",
       "    </tr>\n",
       "    <tr>\n",
       "      <th>92</th>\n",
       "      <td>2018</td>\n",
       "      <td>0.525234</td>\n",
       "      <td>0.471028</td>\n",
       "      <td>0.540230</td>\n",
       "      <td>0.459770</td>\n",
       "      <td>0.46</td>\n",
       "      <td>0.52</td>\n",
       "      <td>2.0</td>\n",
       "    </tr>\n",
       "    <tr>\n",
       "      <th>93</th>\n",
       "      <td>2020</td>\n",
       "      <td>0.504673</td>\n",
       "      <td>0.491589</td>\n",
       "      <td>0.510345</td>\n",
       "      <td>0.489655</td>\n",
       "      <td>0.48</td>\n",
       "      <td>0.50</td>\n",
       "      <td>1.0</td>\n",
       "    </tr>\n",
       "    <tr>\n",
       "      <th>94</th>\n",
       "      <td>2022</td>\n",
       "      <td>0.487850</td>\n",
       "      <td>0.504673</td>\n",
       "      <td>0.489655</td>\n",
       "      <td>0.508046</td>\n",
       "      <td>0.48</td>\n",
       "      <td>0.49</td>\n",
       "      <td>1.0</td>\n",
       "    </tr>\n",
       "    <tr>\n",
       "      <th>95</th>\n",
       "      <td>2024</td>\n",
       "      <td>0.480374</td>\n",
       "      <td>0.506542</td>\n",
       "      <td>0.487356</td>\n",
       "      <td>0.501149</td>\n",
       "      <td>0.45</td>\n",
       "      <td>0.53</td>\n",
       "      <td>2.0</td>\n",
       "    </tr>\n",
       "  </tbody>\n",
       "</table>\n",
       "</div>"
      ],
      "text/plain": [
       "    yr_rd2  shr_dem_in_sess  shr_rep_in_sess  dem_lowhse  rep_lowhse  \\\n",
       "86    2006         0.527103         0.469159    0.535632    0.464368   \n",
       "87    2008         0.588785         0.411215    0.590805    0.409195   \n",
       "88    2010         0.456075         0.540187    0.443678    0.556322   \n",
       "89    2012         0.474766         0.521495    0.462069    0.537931   \n",
       "90    2014         0.433645         0.562617    0.432184    0.567816   \n",
       "91    2016         0.450467         0.547664    0.445977    0.554023   \n",
       "92    2018         0.525234         0.471028    0.540230    0.459770   \n",
       "93    2020         0.504673         0.491589    0.510345    0.489655   \n",
       "94    2022         0.487850         0.504673    0.489655    0.508046   \n",
       "95    2024         0.480374         0.506542    0.487356    0.501149   \n",
       "\n",
       "    dem_upphse  rep_upphse  president_party  \n",
       "86        0.49        0.49              2.0  \n",
       "87        0.58        0.42              1.0  \n",
       "88        0.51        0.47              1.0  \n",
       "89        0.53        0.45              1.0  \n",
       "90        0.44        0.54              1.0  \n",
       "91        0.47        0.52              2.0  \n",
       "92        0.46        0.52              2.0  \n",
       "93        0.48        0.50              1.0  \n",
       "94        0.48        0.49              1.0  \n",
       "95        0.45        0.53              2.0  "
      ]
     },
     "execution_count": 30,
     "metadata": {},
     "output_type": "execute_result"
    }
   ],
   "source": [
    "fed_df.tail(10)"
   ]
  },
  {
   "cell_type": "code",
   "execution_count": 39,
   "metadata": {},
   "outputs": [
    {
     "data": {
      "text/html": [
       "<div>\n",
       "<style scoped>\n",
       "    .dataframe tbody tr th:only-of-type {\n",
       "        vertical-align: middle;\n",
       "    }\n",
       "\n",
       "    .dataframe tbody tr th {\n",
       "        vertical-align: top;\n",
       "    }\n",
       "\n",
       "    .dataframe thead th {\n",
       "        text-align: right;\n",
       "    }\n",
       "</style>\n",
       "<table border=\"1\" class=\"dataframe\">\n",
       "  <thead>\n",
       "    <tr style=\"text-align: right;\">\n",
       "      <th></th>\n",
       "      <th>yr_rd2</th>\n",
       "      <th>shr_dem_in_sess</th>\n",
       "      <th>shr_rep_in_sess</th>\n",
       "      <th>dem_lowhse</th>\n",
       "      <th>rep_lowhse</th>\n",
       "      <th>dem_upphse</th>\n",
       "      <th>rep_upphse</th>\n",
       "      <th>president_party</th>\n",
       "    </tr>\n",
       "  </thead>\n",
       "  <tbody>\n",
       "    <tr>\n",
       "      <th>93</th>\n",
       "      <td>2020</td>\n",
       "      <td>0.504673</td>\n",
       "      <td>0.491589</td>\n",
       "      <td>0.510345</td>\n",
       "      <td>0.489655</td>\n",
       "      <td>0.48</td>\n",
       "      <td>0.50</td>\n",
       "      <td>1.0</td>\n",
       "    </tr>\n",
       "    <tr>\n",
       "      <th>94</th>\n",
       "      <td>2022</td>\n",
       "      <td>0.487850</td>\n",
       "      <td>0.504673</td>\n",
       "      <td>0.489655</td>\n",
       "      <td>0.508046</td>\n",
       "      <td>0.48</td>\n",
       "      <td>0.49</td>\n",
       "      <td>1.0</td>\n",
       "    </tr>\n",
       "    <tr>\n",
       "      <th>95</th>\n",
       "      <td>2024</td>\n",
       "      <td>0.480374</td>\n",
       "      <td>0.506542</td>\n",
       "      <td>0.487356</td>\n",
       "      <td>0.501149</td>\n",
       "      <td>0.45</td>\n",
       "      <td>0.53</td>\n",
       "      <td>2.0</td>\n",
       "    </tr>\n",
       "  </tbody>\n",
       "</table>\n",
       "</div>"
      ],
      "text/plain": [
       "    yr_rd2  shr_dem_in_sess  shr_rep_in_sess  dem_lowhse  rep_lowhse  \\\n",
       "93    2020         0.504673         0.491589    0.510345    0.489655   \n",
       "94    2022         0.487850         0.504673    0.489655    0.508046   \n",
       "95    2024         0.480374         0.506542    0.487356    0.501149   \n",
       "\n",
       "    dem_upphse  rep_upphse  president_party  \n",
       "93        0.48        0.50              1.0  \n",
       "94        0.48        0.49              1.0  \n",
       "95        0.45        0.53              2.0  "
      ]
     },
     "execution_count": 39,
     "metadata": {},
     "output_type": "execute_result"
    }
   ],
   "source": [
    "fed_df.tail(3)"
   ]
  },
  {
   "cell_type": "code",
   "execution_count": 32,
   "metadata": {},
   "outputs": [
    {
     "name": "stdout",
     "output_type": "stream",
     "text": [
      "Percentage of Democrats in Senate in 2010 according to Wikipedia: 0.56 or 0.58.\n",
      "Percentage of Democrats in Senate in 2010 according to fed_df: 0.51.\n",
      "Percentage of Democrats in Senate in 2010 according to df: 0.51.\n"
     ]
    }
   ],
   "source": [
    "print(f\"Percentage of Democrats in Senate in 2010 according to Wikipedia: {56/100} or {58/100}.\")\n",
    "print(f\"Percentage of Democrats in Senate in 2010 according to fed_df: {fed_df.loc[fed_df['yr_rd2'] == 2010, 'dem_upphse'].values[0]}.\")\n",
    "print(f\"Percentage of Democrats in Senate in 2010 according to df: {df.loc[(df['yr_rd2'] == 2010) & (df['state_abbrev'] == 'FD'), 'dem_upphse'].values[0]}.\")"
   ]
  },
  {
   "cell_type": "code",
   "execution_count": 33,
   "metadata": {},
   "outputs": [
    {
     "name": "stdout",
     "output_type": "stream",
     "text": [
      "Percentage of Democrats in Senate in 2008 according to Wikipedia: 0.49.\n",
      "Percentage of Democrats in Senate in 2008 according to fed_df: 0.58.\n",
      "Percentage of Democrats in Senate in 2008 according to df: 0.58.\n"
     ]
    }
   ],
   "source": [
    "print(f\"Percentage of Democrats in Senate in 2008 according to Wikipedia: {49/100}.\")\n",
    "print(f\"Percentage of Democrats in Senate in 2008 according to fed_df: {fed_df.loc[fed_df['yr_rd2'] == 2008, 'dem_upphse'].values[0]}.\")\n",
    "print(f\"Percentage of Democrats in Senate in 2008 according to df: {df.loc[(df['yr_rd2'] == 2008) & (df['state_abbrev'] == 'FD'), 'dem_upphse'].values[0]}.\")"
   ]
  },
  {
   "cell_type": "code",
   "execution_count": 41,
   "metadata": {},
   "outputs": [
    {
     "name": "stdout",
     "output_type": "stream",
     "text": [
      "Percentage of Democrats in House in 2008 according to Wikipedia: 0.535632183908046.\n",
      "Percentage of Democrats in House in 2008 according to fed_df: 0.535632183908046.\n",
      "Percentage of Democrats in House in 2008 according to df: 0.535632183908046.\n"
     ]
    }
   ],
   "source": [
    "print(f\"Percentage of Democrats in House in 2008 according to Wikipedia: {233/435}.\")\n",
    "print(f\"Percentage of Democrats in House in 2008 according to fed_df: {fed_df.loc[fed_df['yr_rd2'] == 2006, 'dem_lowhse'].values[0]}.\")\n",
    "print(f\"Percentage of Democrats in House in 2008 according to df: {df.loc[(df['yr_rd2'] == 2006) & (df['state_abbrev'] == 'FD'), 'dem_lowhse'].values[0]}.\")"
   ]
  },
  {
   "cell_type": "code",
   "execution_count": 40,
   "metadata": {},
   "outputs": [
    {
     "name": "stdout",
     "output_type": "stream",
     "text": [
      "President's party in 2008 according to Wikipedia: Republican.\n",
      "President's party in 2008 according to fed_df: 1.0.\n"
     ]
    }
   ],
   "source": [
    "print(f\"President's party in 2008 according to Wikipedia: Republican.\")\n",
    "print(f\"President's party in 2008 according to fed_df: {fed_df.loc[fed_df['yr_rd2'] == 2008, 'president_party'].values[0]}.\")"
   ]
  },
  {
   "cell_type": "code",
   "execution_count": null,
   "metadata": {},
   "outputs": [
    {
     "name": "stdout",
     "output_type": "stream",
     "text": [
      "Percentage of Democrats in Senate in 2008 election in MA according to Wikipedia: 0.875.\n",
      "Percentage of Democrats in Senate in 2008 election in MA according to state_df: 0.875.\n"
     ]
    }
   ],
   "source": [
    "print(f\"Percentage of Democrats in Senate in 2008 election in MA according to Wikipedia: {35/40}.\")\n",
    "print(f\"Percentage of Democrats in Senate in 2008 election in MA according to state_df: {state_df.loc[(state_df['yr_rd2'] == 2008) & (state_df['state_abbrev'] == 'MA'), 'dem_upphse'].values[0]}.\")"
   ]
  },
  {
   "cell_type": "code",
   "execution_count": 36,
   "metadata": {},
   "outputs": [
    {
     "name": "stdout",
     "output_type": "stream",
     "text": [
      "     state_abbrev  yr_rd2  shr_dem_in_sess  shr_rep_in_sess  dem_upphse  \\\n",
      "3376           MA  1996.0         0.764062         0.232813    0.750000   \n",
      "3425           MA  1998.0         0.800000         0.190625    0.787500   \n",
      "3474           MA  2000.0         0.810937         0.182813    0.812500   \n",
      "3523           MA  2002.0         0.850000         0.134375    0.850000   \n",
      "3572           MA  2004.0         0.850000         0.146875    0.850000   \n",
      "3621           MA  2006.0         0.856250         0.140625    0.850000   \n",
      "3670           MA  2008.0         0.876563         0.121875    0.875000   \n",
      "3719           MA  2010.0         0.886541         0.113459    0.873397   \n",
      "3768           MA  2012.0         0.849984         0.150016    0.898718   \n",
      "3815           MA  2014.0         0.859375         0.140625    0.900000   \n",
      "\n",
      "      dem_lowhse  rep_upphse  rep_lowhse  gov_party  \n",
      "3376    0.778125    0.250000    0.215625        2.0  \n",
      "3425    0.812500    0.200000    0.181250        2.0  \n",
      "3474    0.809375    0.187500    0.178125        2.0  \n",
      "3523    0.850000    0.125000    0.143750        2.0  \n",
      "3572    0.850000    0.150000    0.143750        2.0  \n",
      "3621    0.862500    0.150000    0.131250        2.0  \n",
      "3670    0.878125    0.125000    0.118750        1.0  \n",
      "3719    0.899686    0.126603    0.100314        1.0  \n",
      "3768    0.801250    0.101282    0.198750        1.0  \n",
      "3815    0.818750    0.100000    0.181250        1.0  \n"
     ]
    }
   ],
   "source": [
    "filt_state_df = state_df.loc[state_df['state_abbrev'] == 'MA']\n",
    "print(filt_state_df.tail(10))"
   ]
  }
 ],
 "metadata": {
  "kernelspec": {
   "display_name": "Revekka_first_environment",
   "language": "python",
   "name": "python3"
  },
  "language_info": {
   "codemirror_mode": {
    "name": "ipython",
    "version": 3
   },
   "file_extension": ".py",
   "mimetype": "text/x-python",
   "name": "python",
   "nbconvert_exporter": "python",
   "pygments_lexer": "ipython3",
   "version": "3.11.9"
  }
 },
 "nbformat": 4,
 "nbformat_minor": 2
}
