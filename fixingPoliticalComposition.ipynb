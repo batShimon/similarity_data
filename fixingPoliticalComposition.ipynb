{
 "cells": [
  {
   "cell_type": "markdown",
   "metadata": {},
   "source": [
    "**Created by:** Revekka Gershovich\n",
    "**When:** Nov 25, 2024\n",
    "**Purpose:** To answer the following question by Nicolas: \"Also a quick question regarding the political composition. By looking at the data I noticed that the presidency/governor and chamber compositions seem to have the wrong years (e.g., in 2008 the Dems hold both chambers and the Presidency but it is coded as 2010). I assume it's coming from a rounding but I wanted to make sure. Could you double check?\""
   ]
  },
  {
   "cell_type": "code",
   "execution_count": null,
   "metadata": {},
   "outputs": [],
   "source": [
    "df.to_csv(path.join(data_dir, \"political_composition.csv\"), index=False)"
   ]
  }
 ],
 "metadata": {
  "language_info": {
   "name": "python"
  }
 },
 "nbformat": 4,
 "nbformat_minor": 2
}
