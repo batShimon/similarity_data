{
 "cells": [
  {
   "cell_type": "code",
   "execution_count": null,
   "id": "2a994fc1",
   "metadata": {
    "lines_to_next_cell": 0
   },
   "outputs": [],
   "source": [
    "import pandas as pd\n",
    "import numpy as np\n",
    "from glob import iglob\n",
    "from tqdm import tqdm\n",
    "import us"
   ]
  },
  {
   "cell_type": "code",
   "execution_count": null,
   "id": "7517cb00",
   "metadata": {
    "lines_to_next_cell": 0
   },
   "outputs": [],
   "source": [
    "parent_dir = os.path.abspath(\"/Users/revekkagershovich/Dropbox (MIT)/StateLaws\")\n",
    "assert os.path.exists(parent_dir), \"parent_dir does not exist\"\n",
    "data_dir = \"./2_data/2_intermediate/political_data\"\n",
    "assert os.path.exists(data_dir), \"Data directory does not exist\"\n",
    "\n",
    "ncsl_csv_dir = \"./ncsl_statepartisancomposition/*.csv\"\n",
    "output_file = \"./post2009_statepartisancomposition.dta\""
   ]
  },
  {
   "cell_type": "code",
   "execution_count": null,
   "id": "9652ce80",
   "metadata": {},
   "outputs": [],
   "source": [
    "for i, file in enumerate(iglob(ncsl_csv_dir)):\n",
    "    partisan_comp_year = pd.read_csv(file)\n",
    "    year = int(file.split(\"/\")[-1].split(\".\")[0])\n",
    "    partisan_comp_year[\"year\"] = year\n",
    "\n",
    "    if i == 0:\n",
    "        full_partisan_comp = partisan_comp_year\n",
    "    else:\n",
    "        full_partisan_comp = pd.concat([full_partisan_comp, partisan_comp_year], axis=0, ignore_index=True, verify_integrity=False)"
   ]
  },
  {
   "cell_type": "code",
   "execution_count": null,
   "id": "b25616e5",
   "metadata": {
    "lines_to_next_cell": 0
   },
   "outputs": [],
   "source": [
    "full_partisan_comp[\"state\"] = full_partisan_comp.state.apply(lambda x: us.states.lookup(x).abbr)"
   ]
  },
  {
   "cell_type": "code",
   "execution_count": null,
   "id": "5b741d54",
   "metadata": {
    "lines_to_next_cell": 0
   },
   "outputs": [],
   "source": [
    "full_partisan_comp = full_partisan_comp.astype({\"house_dem\": float, \"senate_dem\": float, \"house_rep\": float, \"senate_rep\": float})\n",
    "full_partisan_comp[\"dr_lowhse\"] = full_partisan_comp[\"house_dem\"] + full_partisan_comp[\"house_rep\"]\n",
    "full_partisan_comp[\"dr_upphse\"] = full_partisan_comp[\"senate_dem\"] + full_partisan_comp[\"senate_rep\"]\n",
    "full_partisan_comp[\"dem_lowhse\"] = full_partisan_comp[\"house_dem\"] / full_partisan_comp[\"dr_lowhse\"]\n",
    "full_partisan_comp[\"rep_lowhse\"] = full_partisan_comp[\"house_rep\"] / full_partisan_comp[\"dr_lowhse\"]\n",
    "full_partisan_comp[\"dem_upphse\"] = full_partisan_comp[\"senate_dem\"] / full_partisan_comp[\"dr_upphse\"]\n",
    "full_partisan_comp[\"rep_upphse\"] = full_partisan_comp[\"senate_rep\"] / full_partisan_comp[\"dr_upphse\"]\n",
    "full_partisan_comp[\"shr_dem_in_sess\"] = full_partisan_comp.apply(lambda row: (row[\"dem_upphse\"] + row[\"dem_lowhse\"])/2, axis=1)\n",
    "full_partisan_comp[\"shr_rep_in_sess\"] = full_partisan_comp.apply(lambda row: (row[\"rep_upphse\"] + row[\"rep_lowhse\"])/2, axis=1)"
   ]
  },
  {
   "cell_type": "code",
   "execution_count": null,
   "id": "0210d683",
   "metadata": {},
   "outputs": [],
   "source": [
    "full_partisan_comp[[\n",
    "    \"year\",\n",
    "    \"state\",\n",
    "    \"dem_upphse\",\n",
    "    \"rep_upphse\",\n",
    "    \"dem_lowhse\",\n",
    "    \"rep_lowhse\",\n",
    "    \"shr_dem_in_sess\",\n",
    "    \"shr_rep_in_sess\"\n",
    "]].to_stata(output_file)"
   ]
  }
 ],
 "metadata": {
  "jupytext": {
   "cell_metadata_filter": "-all",
   "main_language": "python",
   "notebook_metadata_filter": "-all"
  },
  "language_info": {
   "name": "python"
  }
 },
 "nbformat": 4,
 "nbformat_minor": 5
}
