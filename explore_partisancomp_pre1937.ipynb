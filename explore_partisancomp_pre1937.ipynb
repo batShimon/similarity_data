{
 "cells": [
  {
   "cell_type": "markdown",
   "metadata": {},
   "source": [
    "Created by: Revekka Gershovich Date: Oct 21 Purpose: Cleaning pre1937 partisan composition of state in a way that preserves third parties\n",
    "DataL Uses ICPSR 16 dataset to generate the partisan composition of state legislatures before 1937."
   ]
  },
  {
   "cell_type": "code",
   "execution_count": 2,
   "metadata": {},
   "outputs": [],
   "source": [
    "import json\n",
    "import pandas as pd\n",
    "import os"
   ]
  },
  {
   "cell_type": "code",
   "execution_count": 4,
   "metadata": {},
   "outputs": [],
   "source": [
    "# parent_dir = os.path.abspath(\"/Users/rivka666/Dropbox (MIT)/StateLaws\")\n",
    "parent_dir = os.path.abspath(\"/Users/revekkagershovich/Dropbox (MIT)/StateLaws\")\n",
    "os.chdir(parent_dir)\n",
    "assert os.path.exists(parent_dir), \"parent_dir does not exist\""
   ]
  },
  {
   "cell_type": "code",
   "execution_count": 10,
   "metadata": {},
   "outputs": [],
   "source": [
    "df = pd.read_stata(\"2_data/1_raw/political_data/icpsr16_statepartisancomposition.dta\")\n",
    "labels = pd.read_stata(\"2_data/1_raw/political_data/icpsr16_statepartisancomposition.dta\", iterator=True)\n",
    "df.columns = [labels.variable_labels()[column] for column in df.columns]\n",
    "\n",
    "icpsr_to_fips = pd.read_excel(\"2_data/1_raw/political_data/StateFIPSicsprAB.xls\")"
   ]
  },
  {
   "cell_type": "code",
   "execution_count": 22,
   "metadata": {},
   "outputs": [
    {
     "name": "stdout",
     "output_type": "stream",
     "text": [
      "Index(['01  UPP HSE 1 OTH SEATS', '01  UPP HSE 2 OTH SEATS',\n",
      "       '01  UPP HSE TOTAL SEATS', '02  UPP HSE 1 OTH SEATS',\n",
      "       '02  UPP HSE 2 OTH SEATS', '02  UPP HSE TOTAL SEATS',\n",
      "       '03  UPP HSE 1 OTH SEATS', '03  UPP HSE 2 OTH SEATS',\n",
      "       '03  UPP HSE TOTAL SEATS', '04  UPP HSE 1 OTH SEATS',\n",
      "       ...\n",
      "       '71  UPP HSE % 1 OTH SEAT', '71  UPP HSE % 2 OTH SEAT',\n",
      "       '72  UPP HSE % 1 OTH SEAT', '72  UPP HSE % 2 OTH SEAT',\n",
      "       '73  UPP HSE % 1 OTH SEAT', '73  UPP HSE % 2 OTH SEAT',\n",
      "       '81  UPP HSE % 1 OTH SEAT', '81  UPP HSE % 2 OTH SEAT',\n",
      "       '82  UPP HSE % 1 OTH SEAT', '82  UPP HSE % 2 OTH SEAT'],\n",
      "      dtype='object', length=250)\n"
     ]
    }
   ],
   "source": [
    "df_filt = df.filter(regex='UPP HSE', axis=1)\n",
    "df_filt = df_filt.loc[:, ~df_filt.columns.str.contains('DEM|W/R')]\n",
    "print(df_filt.columns)"
   ]
  },
  {
   "cell_type": "code",
   "execution_count": null,
   "metadata": {},
   "outputs": [],
   "source": [
    "reshaped = pd.wide_to_long(df, \n",
    "        stubnames=[\n",
    "            ' PARTY OF GOV',\n",
    "            ' UPP HSE DEM   SEATS',\n",
    "            ' UPP HSE W/R   SEATS',\n",
    "            ' UPP HSE 1 OTH SEATS',\n",
    "            ' UPP HSE 2 OTH SEATS',\n",
    "            ' UPP HSE TOTAL SEATS',\n",
    "            ' LOW HSE DEM   SEATS',\n",
    "            ' LOW HSE W/R   SEATS',\n",
    "            ' LOW HSE 1 OTH SEATS',\n",
    "            ' LOW HSE 2 OTH SEATS',\n",
    "            ' LOW HSE TOTAL SEATS',\n",
    "            ' UPP HSE % DEM   SEAT',\n",
    "            ' UPP HSE % W/R   SEAT',\n",
    "            ' UPP HSE % 1 OTH SEAT',\n",
    "            ' UPP HSE % 2 OTH SEAT',\n",
    "            ' LOW HSE % DEM   SEAT',\n",
    "            ' LOW HSE % W/R   SEAT',\n",
    "            ' LOW HSE % 1 OTH SEAT',\n",
    "            ' LOW HSE % 2 OTH SEAT'\n",
    "        ],\n",
    "        i=\"YEAR OF LEGISLATURE\",\n",
    "        j=\"state_icpsr\",\n",
    "        sep=\" \"\n",
    "    ).reset_index()[[\"YEAR OF LEGISLATURE\", \"state_icpsr\", ' UPP HSE DEM   SEATS', ' UPP HSE W/R   SEATS', ' LOW HSE DEM   SEATS', ' LOW HSE W/R   SEATS', ' UPP HSE TOTAL SEATS', ' LOW HSE TOTAL SEATS']]\n",
    "    reshaped.rename(\n",
    "        {\n",
    "            \"YEAR OF LEGISLATURE\": \"year\",\n",
    "            \" UPP HSE DEM   SEATS\": \"dem_upphse\",\n",
    "            ' UPP HSE W/R   SEATS': \"rep_upphse\",\n",
    "            ' LOW HSE DEM   SEATS': \"dem_lowhse\",\n",
    "            ' LOW HSE W/R   SEATS': \"rep_lowhse\",\n",
    "            ' UPP HSE TOTAL SEATS': \"tot_upphse\",\n",
    "            ' LOW HSE TOTAL SEATS': \"tot_lowhse\"\n",
    "        },\n",
    "        axis=1,\n",
    "        inplace=True\n",
    "    )"
   ]
  }
 ],
 "metadata": {
  "kernelspec": {
   "display_name": ".venv",
   "language": "python",
   "name": "python3"
  },
  "language_info": {
   "codemirror_mode": {
    "name": "ipython",
    "version": 3
   },
   "file_extension": ".py",
   "mimetype": "text/x-python",
   "name": "python",
   "nbconvert_exporter": "python",
   "pygments_lexer": "ipython3",
   "version": "3.9.6"
  }
 },
 "nbformat": 4,
 "nbformat_minor": 2
}
