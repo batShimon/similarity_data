{
 "cells": [
  {
   "cell_type": "markdown",
   "metadata": {},
   "source": [
    "**Created by:** Revekka \n",
    "\n",
    "**When:** Nov 18\n",
    "\n",
    "**Purpose:** To clean data downloaded from here: https://en.wikipedia.org/wiki/Party_divisions_of_United_States_Congresses#cite_note-14\n",
    "This is Federal Composition data. \n",
    "\n",
    "**Next file:** partisanStateFedDataMerge.ipynb"
   ]
  },
  {
   "cell_type": "code",
   "execution_count": null,
   "metadata": {},
   "outputs": [],
   "source": [
    "import pandas as pd\n",
    "import os\n",
    "import os.path as path\n",
    "import numpy as np\n",
    "import re"
   ]
  },
  {
   "cell_type": "code",
   "execution_count": null,
   "metadata": {},
   "outputs": [],
   "source": [
    "parent_dir = os.path.abspath(\"/Users/revekkagershovich/Dropbox (MIT)/StateLaws\")\n",
    "os.chdir(parent_dir)\n",
    "assert os.path.exists(parent_dir), \"parent_dir does not exist\"\n",
    "intermed_data_dir = \"./2_data/2_intermediate/political_data\"\n",
    "assert os.path.exists(intermed_data_dir), \"Data directory does not exist\"\n",
    "raw_data_dir = \"./2_data/1_raw/political_data/all_partisanComposition\"\n",
    "assert os.path.exists(raw_data_dir), \"Data directory does not exist\""
   ]
  },
  {
   "cell_type": "markdown",
   "metadata": {},
   "source": [
    "I am mapping in the next cell the following parties to republicans and democrats: \n",
    "Democratic: Anti_Admin (1-3 congress), Democratic_Republicans (4-18), Jacksonian (19-24)\n",
    "Republican: Pro_Admin (1-3 congress), Federalists (4-18), Anti_Jacksonian (19-24), Whigs (25-33), Opposition (Whigs + nascent Republicans) (34)\n"
   ]
  },
  {
   "cell_type": "code",
   "execution_count": null,
   "metadata": {},
   "outputs": [],
   "source": [
    "df = pd.read_csv(os.path.join(raw_data_dir , \"Wiki_fed_compostion.csv\"))\n",
    "# Set the second row as the header\n",
    "df.columns = df.iloc[0]  # Set the second row as the header\n",
    "df = df[1:]  # Drop the row that is now the header\n",
    "\n",
    "# Reset the index if needed\n",
    "df.reset_index(drop=True, inplace=True)\n",
    "\n",
    "df.columns.values[0] = \"Congress\"\n",
    "df.columns.values[1] = \"Years\"\n",
    "df.columns.values[2] = \"Total_Upphouse\"\n",
    "df.columns.values[3] = \"Dem_Upphouse\"\n",
    "df.columns.values[4] = \"Rep_Upphouse\"\n",
    "df.columns.values[5] = \"Other_Upphouse\"\n",
    "df.columns.values[6] = \"Vacancies_Upphouse\"\n",
    "df.columns.values[8] = \"Total_Lowhouse\"\n",
    "df.columns.values[9] = \"Dem_Lowhouse\"\n",
    "df.columns.values[10] = \"Rep_Lowhouse\"\n",
    "df.columns.values[11] = \"Other_Lowhouse\"\n",
    "df.columns.values[12] = \"Vacancies_Lowhouse\"\n",
    "df.columns.values[13] = \"President\"\n",
    "df.columns.values[14] = \"Trifecta\"\n",
    "\n",
    "df = df.dropna(axis=1, how='all')\n",
    "df = df.dropna(how='all')\n",
    "df = df[df['Congress'] != 'Congress']\n",
    "\n",
    "df.to_csv(os.path.join(intermed_data_dir, \"Cleaned_Wiki_fed_compostion.csv\"), index=False)\n",
    "\n",
    "df = df.drop([\"Other_Upphouse\", \"Vacancies_Upphouse\", \"Other_Lowhouse\", \"Vacancies_Lowhouse\", \"Trifecta\"], axis=1)\n",
    "df['Congress'] = df['Congress'].str.extract('(\\d+)').astype(int)\n",
    "# Create a dictionary that maps congress number to the years it spans\n",
    "congress_years = {i: 1789 + 2 * (i - 1) - 1 for i in range(1, 120)} \n",
    "# I want the years to be even (i.e. second (middle) year of congress) to keep the dataset in line with state partisan composition data\n",
    "df['year'] = df['Congress'].map(congress_years)\n",
    "df = df.drop([\"Years\"], axis=1)\n",
    "df['President'] = df['President'].fillna(method='ffill')\n",
    "df = df.applymap(lambda x: re.sub(r'\\[.*?\\]', '', str(x)) if pd.notnull(x) else x)\n",
    "df['year'] = df['year'].astype(int) \n",
    "\n",
    "# Duplicate the DataFrame\n",
    "df_copy = df.copy()\n",
    "\n",
    "# Increment the 'year' column in the duplicate by 1\n",
    "df_copy['year'] += 1\n",
    "\n",
    "# Concatenate the original DataFrame with the modified duplicate\n",
    "df = pd.concat([df, df_copy], ignore_index=True)\n",
    "\n",
    "df = df.sort_values(by='year').reset_index(drop=True)"
   ]
  },
  {
   "cell_type": "code",
   "execution_count": null,
   "metadata": {},
   "outputs": [],
   "source": [
    "# Handle only rows with '/' in 'Dem_Upphouse'\n",
    "df.loc[df['Dem_Upphouse'].str.contains('/', na=False), 'Dem_Upphouse'] = \\\n",
    "    df.loc[df['Dem_Upphouse'].str.contains('/', na=False), 'Dem_Upphouse'].str.extract(r'/(\\d+)', expand=False)\n",
    "\n",
    "# Handle only rows with '/' in 'Rep_Upphouse'\n",
    "df.loc[df['Rep_Upphouse'].str.contains('/', na=False), 'Rep_Upphouse'] = \\\n",
    "    df.loc[df['Rep_Upphouse'].str.contains('/', na=False), 'Rep_Upphouse'].str.extract(r'/(\\d+)', expand=False)"
   ]
  },
  {
   "cell_type": "code",
   "execution_count": null,
   "metadata": {},
   "outputs": [],
   "source": [
    "# Handle only rows with '–' in 'Dem_Upphouse'\n",
    "df.loc[df['Dem_Upphouse'].str.contains('–', na=False), 'Dem_Upphouse'] = \\\n",
    "    df.loc[df['Dem_Upphouse'].str.contains('–', na=False), 'Dem_Upphouse'].str.extract(r'–(\\d+)', expand=False)\n",
    "\n",
    "# Handle only rows with '–' in 'Rep_Upphouse'\n",
    "df.loc[df['Rep_Upphouse'].str.contains('–', na=False), 'Rep_Upphouse'] = \\\n",
    "    df.loc[df['Rep_Upphouse'].str.contains('–', na=False), 'Rep_Upphouse'].str.extract(r'–(\\d+)', expand=False)"
   ]
  },
  {
   "cell_type": "code",
   "execution_count": null,
   "metadata": {},
   "outputs": [],
   "source": [
    "# List of columns to convert to int type\n",
    "columns_to_convert = ['Congress', 'Total_Upphouse', 'Dem_Upphouse', 'Rep_Upphouse',\n",
    "                      'Total_Lowhouse', 'Dem_Lowhouse', 'Rep_Lowhouse']\n",
    "\n",
    "# Convert columns to int type\n",
    "df[columns_to_convert] = df[columns_to_convert].astype(int)"
   ]
  },
  {
   "cell_type": "code",
   "execution_count": null,
   "metadata": {},
   "outputs": [],
   "source": [
    "df.tail(10)"
   ]
  },
  {
   "cell_type": "code",
   "execution_count": null,
   "metadata": {},
   "outputs": [],
   "source": [
    "df['Total_Session'] = df['Total_Upphouse'] + df['Total_Lowhouse']\n",
    "df['Dem_Session'] = df['Dem_Upphouse'] + df['Dem_Lowhouse']\n",
    "df['Rep_Session'] = df['Rep_Upphouse'] + df['Rep_Lowhouse']"
   ]
  },
  {
   "cell_type": "code",
   "execution_count": null,
   "metadata": {},
   "outputs": [],
   "source": [
    "president_party_mapping = {\n",
    "    'George Washington': None,  # No party\n",
    "    'John Adams': 2,         # Federalist\n",
    "    'Thomas Jefferson': 1,   # Democratic-Republican\n",
    "    'James Madison': 1,      # Democratic-Republican\n",
    "    'James Monroe': 1,       # Democratic-Republican\n",
    "    'John Quincy Adams': 1,  # Democratic-Republican\n",
    "    'Andrew Jackson': 1,        # Democratic\n",
    "    'Martin Van Buren': 1,      # Democratic\n",
    "    'William Henry Harrison': 2, # Whig (Republican in this case)\n",
    "    'John Tyler': 2,         # No formal party after leaving Whigs\n",
    "    'James K. Polk': 1,         # Democratic\n",
    "    'Zachary Taylor': 2,        # Whig (Republican in this case)\n",
    "    'Millard Fillmore': 2,   # Whig\n",
    "    'Franklin Pierce': 1,       # Democratic\n",
    "    'James Buchanan': 1,        # Democratic\n",
    "    'Abraham Lincoln': 2,       # Republican\n",
    "    'Andrew Johnson': 1,        # Democratic (when not affiliated with Lincoln)\n",
    "    'Ulysses S. Grant': 2,      # Republican\n",
    "    'Rutherford B. Hayes': 2,   # Republican\n",
    "    'James A. Garfield': 2,     # Republican\n",
    "    'Chester A. Arthur': 2,     # Republican\n",
    "    'Grover Cleveland': 1,      # Democratic\n",
    "    'Benjamin Harrison': 2,     # Republican\n",
    "    'William McKinley': 2,      # Republican\n",
    "    'Theodore Roosevelt': 2,    # Republican\n",
    "    'William Howard Taft': 2,   # Republican\n",
    "    'Woodrow Wilson': 1,        # Democratic\n",
    "    'Warren G. Harding': 2,     # Republican\n",
    "    'Calvin Coolidge': 2,       # Republican\n",
    "    'Herbert Hoover': 2,        # Republican\n",
    "    'Franklin D. Roosevelt': 1, # Democratic\n",
    "    'Harry S. Truman': 1,       # Democratic\n",
    "    'Dwight D. Eisenhower': 2,  # Republican\n",
    "    'John F. Kennedy': 1,       # Democratic\n",
    "    'Lyndon B. Johnson': 1,     # Democratic\n",
    "    'Richard Nixon': 2,         # Republican\n",
    "    'Gerald Ford': 2,           # Republican\n",
    "    'Jimmy Carter': 1,          # Democratic\n",
    "    'Ronald Reagan': 2,         # Republican\n",
    "    'George H. W. Bush': 2,     # Republican\n",
    "    'Bill Clinton': 1,          # Democratic\n",
    "    'George W. Bush': 2,        # Republican\n",
    "    'Barack Obama': 1,          # Democratic\n",
    "    'Donald Trump': 2,          # Republican\n",
    "    'Joe Biden': 1              # Democratic\n",
    "}\n",
    "\n",
    "\n",
    "# Create a new column in your DataFrame using the mapping\n",
    "df['president_party'] = df['President'].map(president_party_mapping).fillna('NA')\n",
    "\n",
    "# Convert 'NA' to pd.NA and change the type to integer\n",
    "df['president_party'] = df['president_party'].replace('NA', pd.NA).astype('Int32')"
   ]
  },
  {
   "cell_type": "markdown",
   "metadata": {},
   "source": [
    "'year', 'shr_dem_in_sess', 'shr_rep_in_sess', 'dem_lowhse', 'rep_lowhse', 'dem_upphse', 'rep_upphse', 'president_party'"
   ]
  },
  {
   "cell_type": "code",
   "execution_count": null,
   "metadata": {},
   "outputs": [],
   "source": [
    "df['shr_dem_in_sess'] = df['Dem_Session'] / df['Total_Session']\n",
    "df['shr_rep_in_sess'] = df['Rep_Session'] / df['Total_Session']\n",
    "df['dem_lowhse'] = df['Dem_Lowhouse'] / df['Total_Lowhouse']\n",
    "df['rep_lowhse'] = df['Rep_Lowhouse'] / df['Total_Lowhouse']\n",
    "df['dem_upphse'] = df['Dem_Upphouse'] / df['Total_Upphouse']\n",
    "df['rep_upphse'] = df['Rep_Upphouse'] / df['Total_Upphouse']"
   ]
  },
  {
   "cell_type": "code",
   "execution_count": null,
   "metadata": {},
   "outputs": [],
   "source": [
    "df = df[['year', 'shr_dem_in_sess', 'shr_rep_in_sess', 'dem_lowhse', 'rep_lowhse', 'dem_upphse', 'rep_upphse', 'president_party']]"
   ]
  },
  {
   "cell_type": "code",
   "execution_count": null,
   "metadata": {},
   "outputs": [],
   "source": [
    "df['year'] = df['year'].astype(int)\n",
    "df['year'] = df['year']-2\n",
    "df = df[df['year'] >= 1833]"
   ]
  },
  {
   "cell_type": "code",
   "execution_count": null,
   "metadata": {},
   "outputs": [],
   "source": [
    "df.head()"
   ]
  },
  {
   "cell_type": "code",
   "execution_count": null,
   "metadata": {},
   "outputs": [],
   "source": [
    "output_file = path.join(intermed_data_dir, \"federal_political_composition.csv\")\n",
    "df.to_csv(output_file, index=False)"
   ]
  }
 ],
 "metadata": {
  "kernelspec": {
   "display_name": "Revekka_first_environment",
   "language": "python",
   "name": "python3"
  },
  "language_info": {
   "codemirror_mode": {
    "name": "ipython",
    "version": 3
   },
   "file_extension": ".py",
   "mimetype": "text/x-python",
   "name": "python",
   "nbconvert_exporter": "python",
   "pygments_lexer": "ipython3",
   "version": "3.11.9"
  }
 },
 "nbformat": 4,
 "nbformat_minor": 2
}
